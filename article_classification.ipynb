{
  "cells": [
    {
      "cell_type": "code",
      "execution_count": 7,
      "metadata": {
        "id": "OakiVwgqVHcF"
      },
      "outputs": [],
      "source": [
        "import numpy as np\n",
        "import pandas as pd\n",
        "import matplotlib.pyplot as plt\n",
        "import seaborn as sns"
      ]
    },
    {
      "cell_type": "code",
      "execution_count": 8,
      "metadata": {
        "id": "A819_J-mVXbo"
      },
      "outputs": [],
      "source": [
        "df = pd.read_csv('CNN_Articels_clean.csv')"
      ]
    },
    {
      "cell_type": "code",
      "execution_count": 9,
      "metadata": {
        "id": "Gysa1iWmWqeg"
      },
      "outputs": [
        {
          "data": {
            "text/html": [
              "<div>\n",
              "<style scoped>\n",
              "    .dataframe tbody tr th:only-of-type {\n",
              "        vertical-align: middle;\n",
              "    }\n",
              "\n",
              "    .dataframe tbody tr th {\n",
              "        vertical-align: top;\n",
              "    }\n",
              "\n",
              "    .dataframe thead th {\n",
              "        text-align: right;\n",
              "    }\n",
              "</style>\n",
              "<table border=\"1\" class=\"dataframe\">\n",
              "  <thead>\n",
              "    <tr style=\"text-align: right;\">\n",
              "      <th></th>\n",
              "      <th>Index</th>\n",
              "      <th>Author</th>\n",
              "      <th>Date published</th>\n",
              "      <th>Category</th>\n",
              "      <th>Section</th>\n",
              "      <th>Url</th>\n",
              "      <th>Headline</th>\n",
              "      <th>Description</th>\n",
              "      <th>Keywords</th>\n",
              "      <th>Second headline</th>\n",
              "      <th>Article text</th>\n",
              "    </tr>\n",
              "  </thead>\n",
              "  <tbody>\n",
              "    <tr>\n",
              "      <th>3827</th>\n",
              "      <td>4476</td>\n",
              "      <td>Jack Bantock, CNN</td>\n",
              "      <td>2021-12-24 11:56:19</td>\n",
              "      <td>sport</td>\n",
              "      <td>sport</td>\n",
              "      <td>https://www.cnn.com/2021/12/24/sport/titans-49...</td>\n",
              "      <td>Thursday Night Football: 'We're not dead yet' ...</td>\n",
              "      <td>The Tennessee Titans needed a hero and A.J. Br...</td>\n",
              "      <td>sport, Thursday Night Football: 'We're not dea...</td>\n",
              "      <td>Thursday Night Football: 'We're not dead yet' ...</td>\n",
              "      <td>(CNN)The Tennessee Titans needed a hero and A...</td>\n",
              "    </tr>\n",
              "    <tr>\n",
              "      <th>2658</th>\n",
              "      <td>3299</td>\n",
              "      <td>Jill Martin, CNN</td>\n",
              "      <td>2021-08-17 03:18:42</td>\n",
              "      <td>sport</td>\n",
              "      <td>tennis</td>\n",
              "      <td>https://www.cnn.com/2021/08/16/tennis/naomi-os...</td>\n",
              "      <td>Naomi Osaka: Tennis player pauses press confer...</td>\n",
              "      <td>Naomi Osaka, preparing to compete in her first...</td>\n",
              "      <td>tennis, Naomi Osaka: Tennis player pauses pres...</td>\n",
              "      <td>Naomi Osaka pauses press conference in tears a...</td>\n",
              "      <td>(CNN)Naomi Osaka, preparing to compete in her...</td>\n",
              "    </tr>\n",
              "    <tr>\n",
              "      <th>3286</th>\n",
              "      <td>3928</td>\n",
              "      <td>Analysis by Max Foster and Lauren Said-Moorhou...</td>\n",
              "      <td>2021-10-15 16:13:17</td>\n",
              "      <td>news</td>\n",
              "      <td>uk</td>\n",
              "      <td>https://www.cnn.com/2021/10/15/uk/royal-news-n...</td>\n",
              "      <td>Analysis: The Queen and senior royals get punc...</td>\n",
              "      <td>The monarch's remarks offered a rare glimpse i...</td>\n",
              "      <td>uk, Analysis: The Queen and senior royals get ...</td>\n",
              "      <td>The Queen and senior royals get punchy on climate</td>\n",
              "      <td>A version of this story appeared in the Octobe...</td>\n",
              "    </tr>\n",
              "    <tr>\n",
              "      <th>3116</th>\n",
              "      <td>3758</td>\n",
              "      <td>Ben Morse, CNN</td>\n",
              "      <td>2021-10-28 08:21:12</td>\n",
              "      <td>sport</td>\n",
              "      <td>golf</td>\n",
              "      <td>https://www.cnn.com/2021/10/28/golf/leona-magu...</td>\n",
              "      <td>Leona Maguire: the 26-year-old who shocked the...</td>\n",
              "      <td>Draped in an Ireland flag and dripping with ch...</td>\n",
              "      <td>golf, Leona Maguire: the 26-year-old who shock...</td>\n",
              "      <td>Leona Maguire: the 26-year-old who shocked the...</td>\n",
              "      <td>(CNN)Draped in an Ireland flag and dripping w...</td>\n",
              "    </tr>\n",
              "    <tr>\n",
              "      <th>754</th>\n",
              "      <td>1363</td>\n",
              "      <td>Blake Ellis and Melanie Hicken, CNN</td>\n",
              "      <td>2021-02-18 12:03:51</td>\n",
              "      <td>news</td>\n",
              "      <td>us</td>\n",
              "      <td>https://www.cnn.com/2021/02/18/us/nursing-home...</td>\n",
              "      <td>Government action took months as nursing home ...</td>\n",
              "      <td>OSHA, the federal agency responsible for prote...</td>\n",
              "      <td>us, Government action took months as nursing h...</td>\n",
              "      <td>Government action took months as nursing home ...</td>\n",
              "      <td>(CNN)The federal agency responsible for prote...</td>\n",
              "    </tr>\n",
              "  </tbody>\n",
              "</table>\n",
              "</div>"
            ],
            "text/plain": [
              "      Index                                             Author  \\\n",
              "3827   4476                                  Jack Bantock, CNN   \n",
              "2658   3299                                   Jill Martin, CNN   \n",
              "3286   3928  Analysis by Max Foster and Lauren Said-Moorhou...   \n",
              "3116   3758                                     Ben Morse, CNN   \n",
              "754    1363                Blake Ellis and Melanie Hicken, CNN   \n",
              "\n",
              "           Date published Category Section  \\\n",
              "3827  2021-12-24 11:56:19    sport   sport   \n",
              "2658  2021-08-17 03:18:42    sport  tennis   \n",
              "3286  2021-10-15 16:13:17     news      uk   \n",
              "3116  2021-10-28 08:21:12    sport    golf   \n",
              "754   2021-02-18 12:03:51     news      us   \n",
              "\n",
              "                                                    Url  \\\n",
              "3827  https://www.cnn.com/2021/12/24/sport/titans-49...   \n",
              "2658  https://www.cnn.com/2021/08/16/tennis/naomi-os...   \n",
              "3286  https://www.cnn.com/2021/10/15/uk/royal-news-n...   \n",
              "3116  https://www.cnn.com/2021/10/28/golf/leona-magu...   \n",
              "754   https://www.cnn.com/2021/02/18/us/nursing-home...   \n",
              "\n",
              "                                               Headline  \\\n",
              "3827  Thursday Night Football: 'We're not dead yet' ...   \n",
              "2658  Naomi Osaka: Tennis player pauses press confer...   \n",
              "3286  Analysis: The Queen and senior royals get punc...   \n",
              "3116  Leona Maguire: the 26-year-old who shocked the...   \n",
              "754   Government action took months as nursing home ...   \n",
              "\n",
              "                                            Description  \\\n",
              "3827  The Tennessee Titans needed a hero and A.J. Br...   \n",
              "2658  Naomi Osaka, preparing to compete in her first...   \n",
              "3286  The monarch's remarks offered a rare glimpse i...   \n",
              "3116  Draped in an Ireland flag and dripping with ch...   \n",
              "754   OSHA, the federal agency responsible for prote...   \n",
              "\n",
              "                                               Keywords  \\\n",
              "3827  sport, Thursday Night Football: 'We're not dea...   \n",
              "2658  tennis, Naomi Osaka: Tennis player pauses pres...   \n",
              "3286  uk, Analysis: The Queen and senior royals get ...   \n",
              "3116  golf, Leona Maguire: the 26-year-old who shock...   \n",
              "754   us, Government action took months as nursing h...   \n",
              "\n",
              "                                        Second headline  \\\n",
              "3827  Thursday Night Football: 'We're not dead yet' ...   \n",
              "2658  Naomi Osaka pauses press conference in tears a...   \n",
              "3286  The Queen and senior royals get punchy on climate   \n",
              "3116  Leona Maguire: the 26-year-old who shocked the...   \n",
              "754   Government action took months as nursing home ...   \n",
              "\n",
              "                                           Article text  \n",
              "3827   (CNN)The Tennessee Titans needed a hero and A...  \n",
              "2658   (CNN)Naomi Osaka, preparing to compete in her...  \n",
              "3286  A version of this story appeared in the Octobe...  \n",
              "3116   (CNN)Draped in an Ireland flag and dripping w...  \n",
              "754    (CNN)The federal agency responsible for prote...  "
            ]
          },
          "execution_count": 9,
          "metadata": {},
          "output_type": "execute_result"
        }
      ],
      "source": [
        "df.sample(5)"
      ]
    },
    {
      "cell_type": "markdown",
      "metadata": {
        "id": "NS3WKQmGZURW"
      },
      "source": [
        "# **Data Cleaning**\n",
        "  * Removing unnecessary columns\n",
        "  * dropping/imputing missing values\n",
        "  * drop duplicates"
      ]
    },
    {
      "cell_type": "code",
      "execution_count": 10,
      "metadata": {
        "id": "vkQTpvEiWrg1"
      },
      "outputs": [
        {
          "name": "stdout",
          "output_type": "stream",
          "text": [
            "<class 'pandas.core.frame.DataFrame'>\n",
            "RangeIndex: 4076 entries, 0 to 4075\n",
            "Data columns (total 11 columns):\n",
            " #   Column           Non-Null Count  Dtype \n",
            "---  ------           --------------  ----- \n",
            " 0   Index            4076 non-null   int64 \n",
            " 1   Author           4076 non-null   object\n",
            " 2   Date published   4076 non-null   object\n",
            " 3   Category         4076 non-null   object\n",
            " 4   Section          4076 non-null   object\n",
            " 5   Url              4076 non-null   object\n",
            " 6   Headline         4076 non-null   object\n",
            " 7   Description      4076 non-null   object\n",
            " 8   Keywords         4076 non-null   object\n",
            " 9   Second headline  4076 non-null   object\n",
            " 10  Article text     4076 non-null   object\n",
            "dtypes: int64(1), object(10)\n",
            "memory usage: 350.4+ KB\n"
          ]
        }
      ],
      "source": [
        "df.info()"
      ]
    },
    {
      "cell_type": "code",
      "execution_count": 11,
      "metadata": {
        "id": "YBBgl8OGWzXZ"
      },
      "outputs": [],
      "source": [
        "df = df[['Category','Description','Headline','Article text']]"
      ]
    },
    {
      "cell_type": "code",
      "execution_count": 12,
      "metadata": {
        "id": "675t0apDXGEw"
      },
      "outputs": [
        {
          "data": {
            "text/html": [
              "<div>\n",
              "<style scoped>\n",
              "    .dataframe tbody tr th:only-of-type {\n",
              "        vertical-align: middle;\n",
              "    }\n",
              "\n",
              "    .dataframe tbody tr th {\n",
              "        vertical-align: top;\n",
              "    }\n",
              "\n",
              "    .dataframe thead th {\n",
              "        text-align: right;\n",
              "    }\n",
              "</style>\n",
              "<table border=\"1\" class=\"dataframe\">\n",
              "  <thead>\n",
              "    <tr style=\"text-align: right;\">\n",
              "      <th></th>\n",
              "      <th>Category</th>\n",
              "      <th>Description</th>\n",
              "      <th>Headline</th>\n",
              "      <th>Article text</th>\n",
              "    </tr>\n",
              "  </thead>\n",
              "  <tbody>\n",
              "    <tr>\n",
              "      <th>4044</th>\n",
              "      <td>sport</td>\n",
              "      <td>Human rights activist Peter Dahlin says the In...</td>\n",
              "      <td>Peng Shuai: Human rights activist Peter Dahlin...</td>\n",
              "      <td>(CNN)Human rights activist Peter Dahlin says ...</td>\n",
              "    </tr>\n",
              "    <tr>\n",
              "      <th>3653</th>\n",
              "      <td>news</td>\n",
              "      <td>When Australia's last two flamingos Greater an...</td>\n",
              "      <td>Australia's last two flamingos get new lease o...</td>\n",
              "      <td>(CNN)When Australia's last two flamingos Grea...</td>\n",
              "    </tr>\n",
              "    <tr>\n",
              "      <th>72</th>\n",
              "      <td>entertainment</td>\n",
              "      <td>The equivalent of missing what should be an ea...</td>\n",
              "      <td>'Winning Time: The Rise of the Lakers Dynasty'...</td>\n",
              "      <td>(CNN)The equivalent of missing what should be...</td>\n",
              "    </tr>\n",
              "    <tr>\n",
              "      <th>1762</th>\n",
              "      <td>news</td>\n",
              "      <td>A drug dealer whose fingerprints were analyzed...</td>\n",
              "      <td>Drug dealer jailed after sharing a photo of ch...</td>\n",
              "      <td>(CNN)A drug dealer whose fingerprints were an...</td>\n",
              "    </tr>\n",
              "    <tr>\n",
              "      <th>2697</th>\n",
              "      <td>sport</td>\n",
              "      <td>\"They always told me I could go back (to schoo...</td>\n",
              "      <td>JR Smith: Two-time NBA champion heads to colle...</td>\n",
              "      <td>(CNN)\"They always told me I could go back (to...</td>\n",
              "    </tr>\n",
              "  </tbody>\n",
              "</table>\n",
              "</div>"
            ],
            "text/plain": [
              "           Category                                        Description  \\\n",
              "4044          sport  Human rights activist Peter Dahlin says the In...   \n",
              "3653           news  When Australia's last two flamingos Greater an...   \n",
              "72    entertainment  The equivalent of missing what should be an ea...   \n",
              "1762           news  A drug dealer whose fingerprints were analyzed...   \n",
              "2697          sport  \"They always told me I could go back (to schoo...   \n",
              "\n",
              "                                               Headline  \\\n",
              "4044  Peng Shuai: Human rights activist Peter Dahlin...   \n",
              "3653  Australia's last two flamingos get new lease o...   \n",
              "72    'Winning Time: The Rise of the Lakers Dynasty'...   \n",
              "1762  Drug dealer jailed after sharing a photo of ch...   \n",
              "2697  JR Smith: Two-time NBA champion heads to colle...   \n",
              "\n",
              "                                           Article text  \n",
              "4044   (CNN)Human rights activist Peter Dahlin says ...  \n",
              "3653   (CNN)When Australia's last two flamingos Grea...  \n",
              "72     (CNN)The equivalent of missing what should be...  \n",
              "1762   (CNN)A drug dealer whose fingerprints were an...  \n",
              "2697   (CNN)\"They always told me I could go back (to...  "
            ]
          },
          "execution_count": 12,
          "metadata": {},
          "output_type": "execute_result"
        }
      ],
      "source": [
        "df.sample(5)"
      ]
    },
    {
      "cell_type": "code",
      "execution_count": 13,
      "metadata": {
        "id": "uVZA9_cUXILL"
      },
      "outputs": [
        {
          "data": {
            "text/plain": [
              "Category\n",
              "sport            2176\n",
              "news             1611\n",
              "business          104\n",
              "politics           75\n",
              "entertainment      58\n",
              "health             52\n",
              "Name: count, dtype: int64"
            ]
          },
          "execution_count": 13,
          "metadata": {},
          "output_type": "execute_result"
        }
      ],
      "source": [
        "df['Category'].value_counts()"
      ]
    },
    {
      "cell_type": "code",
      "execution_count": 14,
      "metadata": {
        "id": "j9AZhDIYXOhS"
      },
      "outputs": [
        {
          "data": {
            "image/png": "[encoded data removed]",
            "text/plain": [
              "<Figure size 640x480 with 1 Axes>"
            ]
          },
          "metadata": {},
          "output_type": "display_data"
        }
      ],
      "source": [
        "plt.pie(df['Category'].value_counts(),labels=df['Category'].value_counts().index,autopct='%1.1f%%')\n",
        "plt.show()"
      ]
    },
    {
      "cell_type": "code",
      "execution_count": 15,
      "metadata": {
        "id": "TApf_OYeXbul"
      },
      "outputs": [
        {
          "data": {
            "image/png": "[encoded data removed]",
            "text/plain": [
              "<Figure size 1000x500 with 1 Axes>"
            ]
          },
          "metadata": {},
          "output_type": "display_data"
        }
      ],
      "source": [
        "plt.figure(figsize=(10,5))\n",
        "sns.countplot(df['Category'])\n",
        "plt.show()"
      ]
    },
    {
      "cell_type": "markdown",
      "metadata": {
        "id": "l3Pj12grYPZM"
      },
      "source": [
        "**We can clearly see that there is huge data imbalance between the categories**"
      ]
    },
    {
      "cell_type": "code",
      "execution_count": 16,
      "metadata": {
        "id": "9VTC2W4cYNBL"
      },
      "outputs": [
        {
          "data": {
            "text/plain": [
              "Category        0\n",
              "Description     0\n",
              "Headline        0\n",
              "Article text    0\n",
              "dtype: int64"
            ]
          },
          "execution_count": 16,
          "metadata": {},
          "output_type": "execute_result"
        }
      ],
      "source": [
        "df.isnull().sum()"
      ]
    },
    {
      "cell_type": "code",
      "execution_count": 17,
      "metadata": {
        "id": "Q7QwixHWYgQI"
      },
      "outputs": [
        {
          "data": {
            "text/plain": [
              "np.int64(0)"
            ]
          },
          "execution_count": 17,
          "metadata": {},
          "output_type": "execute_result"
        }
      ],
      "source": [
        "df.duplicated().sum()"
      ]
    },
    {
      "cell_type": "markdown",
      "metadata": {
        "id": "pyvCP7XcYj-Y"
      },
      "source": [
        "**There are no missing values and duplicates in the dataset.**"
      ]
    },
    {
      "cell_type": "code",
      "execution_count": 18,
      "metadata": {
        "id": "HaULqCkNYi1d"
      },
      "outputs": [
        {
          "data": {
            "text/plain": [
              "(4076, 4)"
            ]
          },
          "execution_count": 18,
          "metadata": {},
          "output_type": "execute_result"
        }
      ],
      "source": [
        "df.shape"
      ]
    },
    {
      "cell_type": "markdown",
      "metadata": {
        "id": "xCh7OI04ZC5T"
      },
      "source": [
        "**The dataset consists of 4076 rows of information and 4 columns**\n"
      ]
    },
    {
      "cell_type": "markdown",
      "metadata": {
        "id": "tv9pOHanaO2S"
      },
      "source": [
        "# **EDA**"
      ]
    },
    {
      "cell_type": "code",
      "execution_count": 19,
      "metadata": {
        "id": "SJ6KH9cJZBM5"
      },
      "outputs": [
        {
          "data": {
            "text/plain": [
              "'The e-commerce boom has exacerbated a global truck driver shortage, but could autonomous trucks help fix the problem?'"
            ]
          },
          "execution_count": 19,
          "metadata": {},
          "output_type": "execute_result"
        }
      ],
      "source": [
        "df['Description'][0]"
      ]
    },
    {
      "cell_type": "code",
      "execution_count": 20,
      "metadata": {
        "id": "5nxF_ThkZACu"
      },
      "outputs": [
        {
          "data": {
            "text/plain": [
              "' (CNN)Right now, there\\'s a shortage of truck drivers in the US and worldwide, exacerbated by the e-commerce boom brought on by the pandemic. One solution to the problem is autonomous trucks, and several companies are in a race to be the first to launch one. Among them is San Diego-based TuSimple.Founded in 2015, TuSimple has completed about 2 million miles of road tests with its 70 prototype trucks across the US, China and Europe. Although these are simply commercially available trucks retrofitted with its technology, TuSimple has deals in place with two of the world\\'s largest truck manufacturers -- Navistar in the US and Traton, Volkswagen\\'s trucking business, in Europe -- to design and build fully autonomous models, which it hopes to launch by 2024. Photos: The Yara Birkeland is what its builders call the world\\'s first zero-emission, autonomous cargo ship. The ship is scheduled to make its first journey between two Norwegian towns before the end of the year. Click through to see more forms of transport set to transform the future.Hide Caption 1 of 13 Photos: Pictured here as a rendering, Oceanbird is a wind-powered transatlantic car carrier that cuts carbon emissions by 90%, compared to a standard car carrier.Hide Caption 2 of 13 Photos: It\\'s not just maritime ships that are going green. Cities around the world are adopting electric ferries. Norwegian startup Zeabuz hopes its self-driving electric ferry (pictured here as a rendering) will help revive urban waterways.Hide Caption 3 of 13 Photos: In China, a new Maglev high-speed train rolls off the production line in Qingdao, east China\\'s Shandong Province, on July 20. It has a top speed of 600 km per hour -- currently the fastest ground vehicle available globally. Hide Caption 4 of 13 Photos: Reaching speeds of up to 1,000 kilometers (620 miles) per hour, Hyperloop could be a sustainable replacement to short-haul flights. Dutch company Hardt (shown here as a rendering) started work on its Hyperloop test facility in Europe, anticipated to open in 2022.Hide Caption 5 of 13 Photos: Hyperloop is like a bullet train, without tracks and rails. Floating pods are propelled through a low-pressure steel tube using magnetic levitation. Virgin has been running tests with passengers on its XP-2 vehicle, pictured here.Hide Caption 6 of 13 Photos: Low carbon travel isn\\'t just about switching to sustainable fuel sources -- it\\'s also about redesigning the transport itself. A \"Flying-V\" plane designed by Delft\\'s University of Technology in the Netherlands and Dutch airline KLM can cut fuel consumption by 20%. Ultimately, researchers hope to switch out the kerosene with a sustainable fuel source, like liquid hydrogen.Hide Caption 7 of 13 Photos: Hydrogen aviation could provide a sustainable solution for short and medium-haul flights. In September, Airbus unveiled plans for three hydrogen-powered, zero-emission aircraft which can carry 100 to 200 passengers. It hopes to launch the first ZEROe aircraft in 2035.Hide Caption 8 of 13 Photos: In December 2019, Canadian airline Harbour Air flew the world\\'s first all-electric, zero-emission commercial aircraft. The six-seater seaplane was retrofitted with magniX\\'s magni500 all-electric motor. Harbour Air -- which carries half a million passengers annually -- hopes to become the world\\'s first all-electric airline. Hide Caption 9 of 13 Photos: In the case of electric bikes, the future is now: one retailer reported the sale of e-bikes and e-scooters had increased 230% this year. E-bikes give the user a boost to their pedaling, allowing them to go further with less effort. E-bikes are now even available on ride-share apps, like Uber.Hide Caption 10 of 13 Photos: While sleeper trains or buses might be the way most of us get some shut-eye on overnight travel, this rendering of a self-driving hotel suite from Toronto-based designer Steve Lee of Aprilli Design Studio might offer a plush alternative in the future.Hide Caption 11 of 13 Photos: In the UAE, these futuristic-looking pods are undergoing testing on a 400-meter line in Sharjah, which borders Dubai. Belarus-based uSky Transport says its pods can help cities solve traffic problems.Hide Caption 12 of 13 Photos: The Coradia iLint by French rail transport company Alstom is the world\\'s first hydrogen-powered passenger train. It began testing in Germany in 2018, and in September 2020 entered regular service in Austria.Hide Caption 13 of 13No sleepTuSimple\\'s latest road test involved hauling fresh produce 951 miles, from Nogales, Arizona to Oklahoma City. The pickup and the dropoff were handled by a human driver, but for the bulk of the route -- from Tucson to Dallas -- the truck drove itself. Read More\"Today, because the system is not fully ready, we have a safety driver and a safety engineer on board at all times when we\\'re testing, but we drove in full autonomy: the driver wasn\\'t touching the wheel,\" said Cheng Lu, TuSimple\\'s president and CEO. The journey was completed in 14 hours versus the usual 24 with a human driver, mostly because a truck doesn\\'t need to sleep. \"In the US, a driver can only work 11 hours a day. We simply had a handoff when our first pair of drivers had to stop because they reached their 11 hours of operation,\" said Lu. That, of course, negates the advantage of an autonomous system, so the idea is that once TuSimple\\'s trucks hit the market, there will be no need to have anyone onboard. Picking up the watermelons still required the human touch.Unlike self-driving cars, which are a still a way from being commercially available, TuSimple trucks won\\'t be required to operate in bustling city traffic, but only on stretches of highway that have been thoroughly mapped via the company\\'s own software. \"We collect data from the roads, and we create this very detailed, high definition map of each route. That adds another layer of safety for the vehicles,\" said Lu. As a result, TuSimple\\'s trucks will only be able to self-drive along these pre-mapped trade corridors, which Lu calls \"virtual railroads,\" and nowhere else. This swarm of robots gets smarter the more it worksAccording to the company, in the US 80% of goods travel through just 10% of the nation\\'s trade corridors, so even selective mapping allows for capturing a large portion of the business. TuSimple is currently mapping routes between Arizona and Texas, and plans to have mapped routes across the nation by 2024. Its plans are dependent on state legislation, however, because currently some states do not allow for testing of autonomous trucks on public roads. Happier drivers?The technology will add about $50,000 to the cost of a truck, making the final price roughly $200,000. According to Lu, that\\'s still cheaper than paying for a human driver. \"If you take $50,000 and divide it by 1 million miles, the average lifespan of a truck, that means you\\'re adding five cents per mile. But you\\'re saving the cost of a human driver, which based on average US wages is about $80,000 to $120,000 per year -- or 80 cents to $1.20 per mile. Today, the direct labor cost is about 50% of the cost of operating a truck,\" he said. Read: A robotic \\'Ironhand\\' could protect factory workers from injuriesThat doesn\\'t mean driverless trucks will take away jobs, according to Lu. By focusing on the \"middle mile,\" rather than on the pickup and delivery of the goods, TuSimple believes it can create new freight capacity without creating new demand for drivers, while at the same time protecting existing jobs. \"A UPS driver is dropping off 200 packages a day -- that\\'s not what autonomy is meant for. We believe that every driver will be able to retire as a driver, even if they enter the workforce today,\" said Lu. TuSimple\\'s autonomous fleet.Instead, TuSimple aims to take over the routes between terminals and distribution centers, which involve long stretches of monotonous driving. \"Take Phoenix to El Paso: that\\'s a six-hour drive. A person cannot make the round trip, because it\\'s more than 11 hours. But the truck can go back and forth all day, the most mundane job that drivers don\\'t want to do. That means you free up that human driver to do the first and the last mile (pickup and delivery).They get to work a full day, which is a more efficient use of their time, and they get to go home at night to their family,\" said Lu.No distractions Although Lu says that the reliability of both the software and the hardware still needs to be increased, TuSimple is planning its first fully autonomous tests, without a human safety driver in the cabin at all, before the end of the year. The results of such tests will indicate whether the company can meet its goal to launch its own trucks by 2024. Lu says that 7,000 have been reserved in the US alone. Photos: The robots running our warehouses Photos: The robots running our warehousesRobots are an increasingly familiar presence in warehouses. At the south-east London warehouse run by British online supermarket Ocado, 3,000 robots fulfill shopping orders. When an order is sent to the warehouse, the bots spring to life and head towards the container they require. Scroll through to see more robots that are revolutionizing warehouses.Hide Caption 1 of 8 Photos: The robots running our warehousesIn response to the coronavirus pandemic, MIT collaborated with Ava Robotics and the Greater Boston Food Bank to design a robot that can use UV light to sanitize the floor of a 4,000-square foot warehouse in just 30 minutes. Hide Caption 2 of 8 Photos: The robots running our warehousesSeven-foot \"Model-T\" robots produced by Japanese startup Telexistence have been stacking shelves in two of Tokyo\\'s largest convenience store franchises. Featuring cameras, microphones and sensors, the Model-T uses three \"fingers\" to stock items such as bottled drinks, cans and rice bowls. The robot is controlled by shop staff remotely.Hide Caption 3 of 8 Photos: The robots running our warehousesUS company Boston Dynamics has become known for its advanced work robots. \"Handle\" is made for the warehouse and equipped with an on-board vision system. It can lift boxes weighing over 30 pounds. Hide Caption 4 of 8 Photos: The robots running our warehousesStretch is the latest robot from Boston Dynamics and can work in warehouses and distribution centers. Designed to keep human workers out of harm\\'s way, Stretch\\'s tentacle-like grippers mean it can manipulate boxes. Hide Caption 5 of 8 Photos: The robots running our warehousesAlthough not specifically designed for warehouses, Boston Dynamics\\' dog-like robot \"Spot\" can lift objects, pick itself up after a fall, open and walk through doors, and even remind people to practice social distancing. Hide Caption 6 of 8 Photos: The robots running our warehousesThis robot is used to plant seeds and check plants at the \"Nordic Harvest\" vertical farm  based in Taastrup, Denmark. The indoor farm is one of the biggest in Europe.Hide Caption 7 of 8 Photos: The robots running our warehousesRobots sort packages at a warehouse run by JD.com -- one of China\\'s largest e-commerce firms, in Wuhan, China, ahead of the annual Singles Day online shopping bonanza, in 2019.Hide Caption 8 of 8 TuSimple has prominent competitors, such as Google spinoff Waymo and Uber-backed Aurora, but those are working on a wider range of self-driving vehicles, including passenger cars. TuSimple is working exclusively on driverless trucks, like US companies Plus and Embark. Grayson Brulte, an autonomy expert at consulting firm Brulte & Co., believes TuSimple is on the right track. \"The biggest competitive advantage that TuSimple has over its competitors is that their technology was purpose-built for trucking. They\\'re not trying to port an autonomy system built for passenger vehicles in dense urban environments to trucking or to build a virtual driver which can both drive passenger vehicles and class-8 trucks. These are different skills and different systems altogether,\" he said. Removing the human element on long trucking routes has other benefits. The company says its trucks react 15 times faster than human drivers, and can see farther down the road, even at night. \"In the US every year there are about 5,000 fatalities involving trucks, and most are due to human error,\" said Lu. \"The truck doesn\\'t get tired, doesn\\'t watch a movie or look at a phone. It doesn\\'t get distracted.\" '"
            ]
          },
          "execution_count": 20,
          "metadata": {},
          "output_type": "execute_result"
        }
      ],
      "source": [
        "df['Article text'][0]"
      ]
    },
    {
      "cell_type": "code",
      "execution_count": 21,
      "metadata": {
        "id": "Negew3xEalkM"
      },
      "outputs": [
        {
          "data": {
            "text/plain": [
              "\"There's a shortage of truckers, but TuSimple thinks it has a solution: no driver needed - CNN\""
            ]
          },
          "execution_count": 21,
          "metadata": {},
          "output_type": "execute_result"
        }
      ],
      "source": [
        "df['Headline'][0]"
      ]
    },
    {
      "cell_type": "code",
      "execution_count": 22,
      "metadata": {
        "id": "ODZ7hgmTatsd"
      },
      "outputs": [],
      "source": [
        "import re\n",
        "import nltk"
      ]
    },
    {
      "cell_type": "code",
      "execution_count": 23,
      "metadata": {
        "id": "2An2VUVybKRS"
      },
      "outputs": [],
      "source": [
        "df['num_of_char'] = df['Article text'].apply(len)"
      ]
    },
    {
      "cell_type": "code",
      "execution_count": 24,
      "metadata": {
        "id": "F5yBP-ZgbSn1"
      },
      "outputs": [
        {
          "data": {
            "text/html": [
              "<div>\n",
              "<style scoped>\n",
              "    .dataframe tbody tr th:only-of-type {\n",
              "        vertical-align: middle;\n",
              "    }\n",
              "\n",
              "    .dataframe tbody tr th {\n",
              "        vertical-align: top;\n",
              "    }\n",
              "\n",
              "    .dataframe thead th {\n",
              "        text-align: right;\n",
              "    }\n",
              "</style>\n",
              "<table border=\"1\" class=\"dataframe\">\n",
              "  <thead>\n",
              "    <tr style=\"text-align: right;\">\n",
              "      <th></th>\n",
              "      <th>Category</th>\n",
              "      <th>Description</th>\n",
              "      <th>Headline</th>\n",
              "      <th>Article text</th>\n",
              "      <th>num_of_char</th>\n",
              "    </tr>\n",
              "  </thead>\n",
              "  <tbody>\n",
              "    <tr>\n",
              "      <th>0</th>\n",
              "      <td>news</td>\n",
              "      <td>The e-commerce boom has exacerbated a global t...</td>\n",
              "      <td>There's a shortage of truckers, but TuSimple t...</td>\n",
              "      <td>(CNN)Right now, there's a shortage of truck d...</td>\n",
              "      <td>12361</td>\n",
              "    </tr>\n",
              "    <tr>\n",
              "      <th>1</th>\n",
              "      <td>news</td>\n",
              "      <td>Working in a factory can mean doing the same t...</td>\n",
              "      <td>Bioservo's robotic 'Ironhand' could protect fa...</td>\n",
              "      <td>(CNN)Working in a factory or warehouse can me...</td>\n",
              "      <td>5815</td>\n",
              "    </tr>\n",
              "    <tr>\n",
              "      <th>2</th>\n",
              "      <td>news</td>\n",
              "      <td>In a Hong Kong warehouse, a swarm of autonomou...</td>\n",
              "      <td>This swarm of robots gets smarter the more it ...</td>\n",
              "      <td>(CNN)In a Hong Kong warehouse, a swarm of aut...</td>\n",
              "      <td>3419</td>\n",
              "    </tr>\n",
              "    <tr>\n",
              "      <th>3</th>\n",
              "      <td>business</td>\n",
              "      <td>For many years, the world's most popular emerg...</td>\n",
              "      <td>Russia is no longer an option for investors. T...</td>\n",
              "      <td>New York (CNN Business)For many years, the wor...</td>\n",
              "      <td>3299</td>\n",
              "    </tr>\n",
              "    <tr>\n",
              "      <th>4</th>\n",
              "      <td>business</td>\n",
              "      <td>The European Union formally approved on Tuesda...</td>\n",
              "      <td>Russian energy investment ban part of new EU s...</td>\n",
              "      <td>The European Union formally approved on Tuesda...</td>\n",
              "      <td>3117</td>\n",
              "    </tr>\n",
              "    <tr>\n",
              "      <th>...</th>\n",
              "      <td>...</td>\n",
              "      <td>...</td>\n",
              "      <td>...</td>\n",
              "      <td>...</td>\n",
              "      <td>...</td>\n",
              "    </tr>\n",
              "    <tr>\n",
              "      <th>4071</th>\n",
              "      <td>sport</td>\n",
              "      <td>The Australian Open's Covid-19 vaccine mandate...</td>\n",
              "      <td>Australian Open: Australia's vaccine mandate i...</td>\n",
              "      <td>(Reuters)The Australian Open's Covid-19 vacci...</td>\n",
              "      <td>1519</td>\n",
              "    </tr>\n",
              "    <tr>\n",
              "      <th>4072</th>\n",
              "      <td>sport</td>\n",
              "      <td>Four golfers scheduled to play in the South Af...</td>\n",
              "      <td>Four golfers test positive ahead of South Afri...</td>\n",
              "      <td>(CNN)Four golfers scheduled to play in the So...</td>\n",
              "      <td>1116</td>\n",
              "    </tr>\n",
              "    <tr>\n",
              "      <th>4073</th>\n",
              "      <td>sport</td>\n",
              "      <td>Long-time International Olympic Committee (IOC...</td>\n",
              "      <td>Peng Shuai: 'Unanimous conclusion' that tennis...</td>\n",
              "      <td>(CNN)Long-time International Olympic Committe...</td>\n",
              "      <td>4335</td>\n",
              "    </tr>\n",
              "    <tr>\n",
              "      <th>4074</th>\n",
              "      <td>news</td>\n",
              "      <td>A Norwegian technology company has found a way...</td>\n",
              "      <td>This company is \"zapping\" cow dung with lightn...</td>\n",
              "      <td>A Norwegian technology company has found a way...</td>\n",
              "      <td>3146</td>\n",
              "    </tr>\n",
              "    <tr>\n",
              "      <th>4075</th>\n",
              "      <td>sport</td>\n",
              "      <td>Tiger Woods is the rarest of athletes. At his ...</td>\n",
              "      <td>Tiger Woods: Is this the end of his era? - CNN</td>\n",
              "      <td>This story was excerpted from the November 23 ...</td>\n",
              "      <td>3065</td>\n",
              "    </tr>\n",
              "  </tbody>\n",
              "</table>\n",
              "<p>4076 rows × 5 columns</p>\n",
              "</div>"
            ],
            "text/plain": [
              "      Category                                        Description  \\\n",
              "0         news  The e-commerce boom has exacerbated a global t...   \n",
              "1         news  Working in a factory can mean doing the same t...   \n",
              "2         news  In a Hong Kong warehouse, a swarm of autonomou...   \n",
              "3     business  For many years, the world's most popular emerg...   \n",
              "4     business  The European Union formally approved on Tuesda...   \n",
              "...        ...                                                ...   \n",
              "4071     sport  The Australian Open's Covid-19 vaccine mandate...   \n",
              "4072     sport  Four golfers scheduled to play in the South Af...   \n",
              "4073     sport  Long-time International Olympic Committee (IOC...   \n",
              "4074      news  A Norwegian technology company has found a way...   \n",
              "4075     sport  Tiger Woods is the rarest of athletes. At his ...   \n",
              "\n",
              "                                               Headline  \\\n",
              "0     There's a shortage of truckers, but TuSimple t...   \n",
              "1     Bioservo's robotic 'Ironhand' could protect fa...   \n",
              "2     This swarm of robots gets smarter the more it ...   \n",
              "3     Russia is no longer an option for investors. T...   \n",
              "4     Russian energy investment ban part of new EU s...   \n",
              "...                                                 ...   \n",
              "4071  Australian Open: Australia's vaccine mandate i...   \n",
              "4072  Four golfers test positive ahead of South Afri...   \n",
              "4073  Peng Shuai: 'Unanimous conclusion' that tennis...   \n",
              "4074  This company is \"zapping\" cow dung with lightn...   \n",
              "4075     Tiger Woods: Is this the end of his era? - CNN   \n",
              "\n",
              "                                           Article text  num_of_char  \n",
              "0      (CNN)Right now, there's a shortage of truck d...        12361  \n",
              "1      (CNN)Working in a factory or warehouse can me...         5815  \n",
              "2      (CNN)In a Hong Kong warehouse, a swarm of aut...         3419  \n",
              "3     New York (CNN Business)For many years, the wor...         3299  \n",
              "4     The European Union formally approved on Tuesda...         3117  \n",
              "...                                                 ...          ...  \n",
              "4071   (Reuters)The Australian Open's Covid-19 vacci...         1519  \n",
              "4072   (CNN)Four golfers scheduled to play in the So...         1116  \n",
              "4073   (CNN)Long-time International Olympic Committe...         4335  \n",
              "4074  A Norwegian technology company has found a way...         3146  \n",
              "4075  This story was excerpted from the November 23 ...         3065  \n",
              "\n",
              "[4076 rows x 5 columns]"
            ]
          },
          "execution_count": 24,
          "metadata": {},
          "output_type": "execute_result"
        }
      ],
      "source": [
        "df"
      ]
    },
    {
      "cell_type": "code",
      "execution_count": 25,
      "metadata": {
        "id": "h2eXLwVZb-2Z"
      },
      "outputs": [
        {
          "data": {
            "text/plain": [
              "array(['news', 'business', 'health', 'entertainment', 'sport', 'politics'],\n",
              "      dtype=object)"
            ]
          },
          "execution_count": 25,
          "metadata": {},
          "output_type": "execute_result"
        }
      ],
      "source": [
        "df['Category'].unique()"
      ]
    },
    {
      "cell_type": "code",
      "execution_count": 26,
      "metadata": {
        "id": "Fzg64Bi4dWi8"
      },
      "outputs": [
        {
          "data": {
            "text/html": [
              "<div>\n",
              "<style scoped>\n",
              "    .dataframe tbody tr th:only-of-type {\n",
              "        vertical-align: middle;\n",
              "    }\n",
              "\n",
              "    .dataframe tbody tr th {\n",
              "        vertical-align: top;\n",
              "    }\n",
              "\n",
              "    .dataframe thead th {\n",
              "        text-align: right;\n",
              "    }\n",
              "</style>\n",
              "<table border=\"1\" class=\"dataframe\">\n",
              "  <thead>\n",
              "    <tr style=\"text-align: right;\">\n",
              "      <th></th>\n",
              "      <th>num_of_char</th>\n",
              "    </tr>\n",
              "  </thead>\n",
              "  <tbody>\n",
              "    <tr>\n",
              "      <th>count</th>\n",
              "      <td>2176.000000</td>\n",
              "    </tr>\n",
              "    <tr>\n",
              "      <th>mean</th>\n",
              "      <td>4164.183824</td>\n",
              "    </tr>\n",
              "    <tr>\n",
              "      <th>std</th>\n",
              "      <td>4611.783392</td>\n",
              "    </tr>\n",
              "    <tr>\n",
              "      <th>min</th>\n",
              "      <td>441.000000</td>\n",
              "    </tr>\n",
              "    <tr>\n",
              "      <th>25%</th>\n",
              "      <td>2149.000000</td>\n",
              "    </tr>\n",
              "    <tr>\n",
              "      <th>50%</th>\n",
              "      <td>3111.000000</td>\n",
              "    </tr>\n",
              "    <tr>\n",
              "      <th>75%</th>\n",
              "      <td>4899.000000</td>\n",
              "    </tr>\n",
              "    <tr>\n",
              "      <th>max</th>\n",
              "      <td>89506.000000</td>\n",
              "    </tr>\n",
              "  </tbody>\n",
              "</table>\n",
              "</div>"
            ],
            "text/plain": [
              "        num_of_char\n",
              "count   2176.000000\n",
              "mean    4164.183824\n",
              "std     4611.783392\n",
              "min      441.000000\n",
              "25%     2149.000000\n",
              "50%     3111.000000\n",
              "75%     4899.000000\n",
              "max    89506.000000"
            ]
          },
          "execution_count": 26,
          "metadata": {},
          "output_type": "execute_result"
        }
      ],
      "source": [
        "df[df['Category']=='sport'][['num_of_char']].describe()"
      ]
    },
    {
      "cell_type": "code",
      "execution_count": 27,
      "metadata": {
        "id": "1bjkXUskdnNl"
      },
      "outputs": [
        {
          "name": "stderr",
          "output_type": "stream",
          "text": [
            "[nltk_data] Downloading package punkt_tab to\n",
            "[nltk_data]     C:\\Users\\HP\\AppData\\Roaming\\nltk_data...\n",
            "[nltk_data]   Package punkt_tab is already up-to-date!\n"
          ]
        }
      ],
      "source": [
        "nltk.download('punkt_tab')\n",
        "df['num_of_words'] = df['Article text'].apply(lambda x:len(nltk.word_tokenize(x)))"
      ]
    },
    {
      "cell_type": "code",
      "execution_count": 28,
      "metadata": {
        "id": "AxCIVdTxhBk7"
      },
      "outputs": [],
      "source": [
        "df['num_of_sents'] = df['Article text'].apply(lambda x:len(nltk.sent_tokenize(x)))"
      ]
    },
    {
      "cell_type": "code",
      "execution_count": 29,
      "metadata": {
        "id": "O7HeLiP2h39N"
      },
      "outputs": [
        {
          "data": {
            "text/html": [
              "<div>\n",
              "<style scoped>\n",
              "    .dataframe tbody tr th:only-of-type {\n",
              "        vertical-align: middle;\n",
              "    }\n",
              "\n",
              "    .dataframe tbody tr th {\n",
              "        vertical-align: top;\n",
              "    }\n",
              "\n",
              "    .dataframe thead th {\n",
              "        text-align: right;\n",
              "    }\n",
              "</style>\n",
              "<table border=\"1\" class=\"dataframe\">\n",
              "  <thead>\n",
              "    <tr style=\"text-align: right;\">\n",
              "      <th></th>\n",
              "      <th>Category</th>\n",
              "      <th>Description</th>\n",
              "      <th>Headline</th>\n",
              "      <th>Article text</th>\n",
              "      <th>num_of_char</th>\n",
              "      <th>num_of_words</th>\n",
              "      <th>num_of_sents</th>\n",
              "    </tr>\n",
              "  </thead>\n",
              "  <tbody>\n",
              "    <tr>\n",
              "      <th>0</th>\n",
              "      <td>news</td>\n",
              "      <td>The e-commerce boom has exacerbated a global t...</td>\n",
              "      <td>There's a shortage of truckers, but TuSimple t...</td>\n",
              "      <td>(CNN)Right now, there's a shortage of truck d...</td>\n",
              "      <td>12361</td>\n",
              "      <td>2353</td>\n",
              "      <td>78</td>\n",
              "    </tr>\n",
              "    <tr>\n",
              "      <th>1</th>\n",
              "      <td>news</td>\n",
              "      <td>Working in a factory can mean doing the same t...</td>\n",
              "      <td>Bioservo's robotic 'Ironhand' could protect fa...</td>\n",
              "      <td>(CNN)Working in a factory or warehouse can me...</td>\n",
              "      <td>5815</td>\n",
              "      <td>1076</td>\n",
              "      <td>37</td>\n",
              "    </tr>\n",
              "    <tr>\n",
              "      <th>2</th>\n",
              "      <td>news</td>\n",
              "      <td>In a Hong Kong warehouse, a swarm of autonomou...</td>\n",
              "      <td>This swarm of robots gets smarter the more it ...</td>\n",
              "      <td>(CNN)In a Hong Kong warehouse, a swarm of aut...</td>\n",
              "      <td>3419</td>\n",
              "      <td>624</td>\n",
              "      <td>20</td>\n",
              "    </tr>\n",
              "    <tr>\n",
              "      <th>3</th>\n",
              "      <td>business</td>\n",
              "      <td>For many years, the world's most popular emerg...</td>\n",
              "      <td>Russia is no longer an option for investors. T...</td>\n",
              "      <td>New York (CNN Business)For many years, the wor...</td>\n",
              "      <td>3299</td>\n",
              "      <td>638</td>\n",
              "      <td>24</td>\n",
              "    </tr>\n",
              "    <tr>\n",
              "      <th>4</th>\n",
              "      <td>business</td>\n",
              "      <td>The European Union formally approved on Tuesda...</td>\n",
              "      <td>Russian energy investment ban part of new EU s...</td>\n",
              "      <td>The European Union formally approved on Tuesda...</td>\n",
              "      <td>3117</td>\n",
              "      <td>541</td>\n",
              "      <td>9</td>\n",
              "    </tr>\n",
              "    <tr>\n",
              "      <th>...</th>\n",
              "      <td>...</td>\n",
              "      <td>...</td>\n",
              "      <td>...</td>\n",
              "      <td>...</td>\n",
              "      <td>...</td>\n",
              "      <td>...</td>\n",
              "      <td>...</td>\n",
              "    </tr>\n",
              "    <tr>\n",
              "      <th>4071</th>\n",
              "      <td>sport</td>\n",
              "      <td>The Australian Open's Covid-19 vaccine mandate...</td>\n",
              "      <td>Australian Open: Australia's vaccine mandate i...</td>\n",
              "      <td>(Reuters)The Australian Open's Covid-19 vacci...</td>\n",
              "      <td>1519</td>\n",
              "      <td>284</td>\n",
              "      <td>7</td>\n",
              "    </tr>\n",
              "    <tr>\n",
              "      <th>4072</th>\n",
              "      <td>sport</td>\n",
              "      <td>Four golfers scheduled to play in the South Af...</td>\n",
              "      <td>Four golfers test positive ahead of South Afri...</td>\n",
              "      <td>(CNN)Four golfers scheduled to play in the So...</td>\n",
              "      <td>1116</td>\n",
              "      <td>195</td>\n",
              "      <td>5</td>\n",
              "    </tr>\n",
              "    <tr>\n",
              "      <th>4073</th>\n",
              "      <td>sport</td>\n",
              "      <td>Long-time International Olympic Committee (IOC...</td>\n",
              "      <td>Peng Shuai: 'Unanimous conclusion' that tennis...</td>\n",
              "      <td>(CNN)Long-time International Olympic Committe...</td>\n",
              "      <td>4335</td>\n",
              "      <td>802</td>\n",
              "      <td>15</td>\n",
              "    </tr>\n",
              "    <tr>\n",
              "      <th>4074</th>\n",
              "      <td>news</td>\n",
              "      <td>A Norwegian technology company has found a way...</td>\n",
              "      <td>This company is \"zapping\" cow dung with lightn...</td>\n",
              "      <td>A Norwegian technology company has found a way...</td>\n",
              "      <td>3146</td>\n",
              "      <td>573</td>\n",
              "      <td>9</td>\n",
              "    </tr>\n",
              "    <tr>\n",
              "      <th>4075</th>\n",
              "      <td>sport</td>\n",
              "      <td>Tiger Woods is the rarest of athletes. At his ...</td>\n",
              "      <td>Tiger Woods: Is this the end of his era? - CNN</td>\n",
              "      <td>This story was excerpted from the November 23 ...</td>\n",
              "      <td>3065</td>\n",
              "      <td>580</td>\n",
              "      <td>22</td>\n",
              "    </tr>\n",
              "  </tbody>\n",
              "</table>\n",
              "<p>4076 rows × 7 columns</p>\n",
              "</div>"
            ],
            "text/plain": [
              "      Category                                        Description  \\\n",
              "0         news  The e-commerce boom has exacerbated a global t...   \n",
              "1         news  Working in a factory can mean doing the same t...   \n",
              "2         news  In a Hong Kong warehouse, a swarm of autonomou...   \n",
              "3     business  For many years, the world's most popular emerg...   \n",
              "4     business  The European Union formally approved on Tuesda...   \n",
              "...        ...                                                ...   \n",
              "4071     sport  The Australian Open's Covid-19 vaccine mandate...   \n",
              "4072     sport  Four golfers scheduled to play in the South Af...   \n",
              "4073     sport  Long-time International Olympic Committee (IOC...   \n",
              "4074      news  A Norwegian technology company has found a way...   \n",
              "4075     sport  Tiger Woods is the rarest of athletes. At his ...   \n",
              "\n",
              "                                               Headline  \\\n",
              "0     There's a shortage of truckers, but TuSimple t...   \n",
              "1     Bioservo's robotic 'Ironhand' could protect fa...   \n",
              "2     This swarm of robots gets smarter the more it ...   \n",
              "3     Russia is no longer an option for investors. T...   \n",
              "4     Russian energy investment ban part of new EU s...   \n",
              "...                                                 ...   \n",
              "4071  Australian Open: Australia's vaccine mandate i...   \n",
              "4072  Four golfers test positive ahead of South Afri...   \n",
              "4073  Peng Shuai: 'Unanimous conclusion' that tennis...   \n",
              "4074  This company is \"zapping\" cow dung with lightn...   \n",
              "4075     Tiger Woods: Is this the end of his era? - CNN   \n",
              "\n",
              "                                           Article text  num_of_char  \\\n",
              "0      (CNN)Right now, there's a shortage of truck d...        12361   \n",
              "1      (CNN)Working in a factory or warehouse can me...         5815   \n",
              "2      (CNN)In a Hong Kong warehouse, a swarm of aut...         3419   \n",
              "3     New York (CNN Business)For many years, the wor...         3299   \n",
              "4     The European Union formally approved on Tuesda...         3117   \n",
              "...                                                 ...          ...   \n",
              "4071   (Reuters)The Australian Open's Covid-19 vacci...         1519   \n",
              "4072   (CNN)Four golfers scheduled to play in the So...         1116   \n",
              "4073   (CNN)Long-time International Olympic Committe...         4335   \n",
              "4074  A Norwegian technology company has found a way...         3146   \n",
              "4075  This story was excerpted from the November 23 ...         3065   \n",
              "\n",
              "      num_of_words  num_of_sents  \n",
              "0             2353            78  \n",
              "1             1076            37  \n",
              "2              624            20  \n",
              "3              638            24  \n",
              "4              541             9  \n",
              "...            ...           ...  \n",
              "4071           284             7  \n",
              "4072           195             5  \n",
              "4073           802            15  \n",
              "4074           573             9  \n",
              "4075           580            22  \n",
              "\n",
              "[4076 rows x 7 columns]"
            ]
          },
          "execution_count": 29,
          "metadata": {},
          "output_type": "execute_result"
        }
      ],
      "source": [
        "df"
      ]
    },
    {
      "cell_type": "code",
      "execution_count": 30,
      "metadata": {
        "id": "LVrnX43Ljziu"
      },
      "outputs": [
        {
          "data": {
            "text/html": [
              "<div>\n",
              "<style scoped>\n",
              "    .dataframe tbody tr th:only-of-type {\n",
              "        vertical-align: middle;\n",
              "    }\n",
              "\n",
              "    .dataframe tbody tr th {\n",
              "        vertical-align: top;\n",
              "    }\n",
              "\n",
              "    .dataframe thead th {\n",
              "        text-align: right;\n",
              "    }\n",
              "</style>\n",
              "<table border=\"1\" class=\"dataframe\">\n",
              "  <thead>\n",
              "    <tr style=\"text-align: right;\">\n",
              "      <th></th>\n",
              "      <th>num_of_char</th>\n",
              "      <th>num_of_words</th>\n",
              "      <th>num_of_sents</th>\n",
              "    </tr>\n",
              "  </thead>\n",
              "  <tbody>\n",
              "    <tr>\n",
              "      <th>321</th>\n",
              "      <td>441</td>\n",
              "      <td>75</td>\n",
              "      <td>1</td>\n",
              "    </tr>\n",
              "    <tr>\n",
              "      <th>2694</th>\n",
              "      <td>443</td>\n",
              "      <td>81</td>\n",
              "      <td>2</td>\n",
              "    </tr>\n",
              "    <tr>\n",
              "      <th>3869</th>\n",
              "      <td>565</td>\n",
              "      <td>101</td>\n",
              "      <td>1</td>\n",
              "    </tr>\n",
              "    <tr>\n",
              "      <th>2728</th>\n",
              "      <td>599</td>\n",
              "      <td>109</td>\n",
              "      <td>2</td>\n",
              "    </tr>\n",
              "    <tr>\n",
              "      <th>2023</th>\n",
              "      <td>651</td>\n",
              "      <td>141</td>\n",
              "      <td>2</td>\n",
              "    </tr>\n",
              "    <tr>\n",
              "      <th>...</th>\n",
              "      <td>...</td>\n",
              "      <td>...</td>\n",
              "      <td>...</td>\n",
              "    </tr>\n",
              "    <tr>\n",
              "      <th>2646</th>\n",
              "      <td>43975</td>\n",
              "      <td>8065</td>\n",
              "      <td>183</td>\n",
              "    </tr>\n",
              "    <tr>\n",
              "      <th>2781</th>\n",
              "      <td>78167</td>\n",
              "      <td>14257</td>\n",
              "      <td>303</td>\n",
              "    </tr>\n",
              "    <tr>\n",
              "      <th>3352</th>\n",
              "      <td>84350</td>\n",
              "      <td>15471</td>\n",
              "      <td>327</td>\n",
              "    </tr>\n",
              "    <tr>\n",
              "      <th>2734</th>\n",
              "      <td>85460</td>\n",
              "      <td>15471</td>\n",
              "      <td>298</td>\n",
              "    </tr>\n",
              "    <tr>\n",
              "      <th>2790</th>\n",
              "      <td>89506</td>\n",
              "      <td>16373</td>\n",
              "      <td>361</td>\n",
              "    </tr>\n",
              "  </tbody>\n",
              "</table>\n",
              "<p>2176 rows × 3 columns</p>\n",
              "</div>"
            ],
            "text/plain": [
              "      num_of_char  num_of_words  num_of_sents\n",
              "321           441            75             1\n",
              "2694          443            81             2\n",
              "3869          565           101             1\n",
              "2728          599           109             2\n",
              "2023          651           141             2\n",
              "...           ...           ...           ...\n",
              "2646        43975          8065           183\n",
              "2781        78167         14257           303\n",
              "3352        84350         15471           327\n",
              "2734        85460         15471           298\n",
              "2790        89506         16373           361\n",
              "\n",
              "[2176 rows x 3 columns]"
            ]
          },
          "execution_count": 30,
          "metadata": {},
          "output_type": "execute_result"
        }
      ],
      "source": [
        "df[df['Category']=='sport'][['num_of_char','num_of_words','num_of_sents']].sort_values(by='num_of_char',ascending=True)"
      ]
    },
    {
      "cell_type": "code",
      "execution_count": 31,
      "metadata": {
        "id": "GKh_n9LjlUKY"
      },
      "outputs": [
        {
          "data": {
            "text/html": [
              "<div>\n",
              "<style scoped>\n",
              "    .dataframe tbody tr th:only-of-type {\n",
              "        vertical-align: middle;\n",
              "    }\n",
              "\n",
              "    .dataframe tbody tr th {\n",
              "        vertical-align: top;\n",
              "    }\n",
              "\n",
              "    .dataframe thead th {\n",
              "        text-align: right;\n",
              "    }\n",
              "</style>\n",
              "<table border=\"1\" class=\"dataframe\">\n",
              "  <thead>\n",
              "    <tr style=\"text-align: right;\">\n",
              "      <th></th>\n",
              "      <th>num_of_words</th>\n",
              "      <th>num_of_char</th>\n",
              "      <th>num_of_sents</th>\n",
              "    </tr>\n",
              "  </thead>\n",
              "  <tbody>\n",
              "    <tr>\n",
              "      <th>321</th>\n",
              "      <td>75</td>\n",
              "      <td>441</td>\n",
              "      <td>1</td>\n",
              "    </tr>\n",
              "    <tr>\n",
              "      <th>2694</th>\n",
              "      <td>81</td>\n",
              "      <td>443</td>\n",
              "      <td>2</td>\n",
              "    </tr>\n",
              "    <tr>\n",
              "      <th>3869</th>\n",
              "      <td>101</td>\n",
              "      <td>565</td>\n",
              "      <td>1</td>\n",
              "    </tr>\n",
              "    <tr>\n",
              "      <th>2728</th>\n",
              "      <td>109</td>\n",
              "      <td>599</td>\n",
              "      <td>2</td>\n",
              "    </tr>\n",
              "    <tr>\n",
              "      <th>2327</th>\n",
              "      <td>135</td>\n",
              "      <td>730</td>\n",
              "      <td>3</td>\n",
              "    </tr>\n",
              "    <tr>\n",
              "      <th>...</th>\n",
              "      <td>...</td>\n",
              "      <td>...</td>\n",
              "      <td>...</td>\n",
              "    </tr>\n",
              "    <tr>\n",
              "      <th>2646</th>\n",
              "      <td>8065</td>\n",
              "      <td>43975</td>\n",
              "      <td>183</td>\n",
              "    </tr>\n",
              "    <tr>\n",
              "      <th>2781</th>\n",
              "      <td>14257</td>\n",
              "      <td>78167</td>\n",
              "      <td>303</td>\n",
              "    </tr>\n",
              "    <tr>\n",
              "      <th>3352</th>\n",
              "      <td>15471</td>\n",
              "      <td>84350</td>\n",
              "      <td>327</td>\n",
              "    </tr>\n",
              "    <tr>\n",
              "      <th>2734</th>\n",
              "      <td>15471</td>\n",
              "      <td>85460</td>\n",
              "      <td>298</td>\n",
              "    </tr>\n",
              "    <tr>\n",
              "      <th>2790</th>\n",
              "      <td>16373</td>\n",
              "      <td>89506</td>\n",
              "      <td>361</td>\n",
              "    </tr>\n",
              "  </tbody>\n",
              "</table>\n",
              "<p>2176 rows × 3 columns</p>\n",
              "</div>"
            ],
            "text/plain": [
              "      num_of_words  num_of_char  num_of_sents\n",
              "321             75          441             1\n",
              "2694            81          443             2\n",
              "3869           101          565             1\n",
              "2728           109          599             2\n",
              "2327           135          730             3\n",
              "...            ...          ...           ...\n",
              "2646          8065        43975           183\n",
              "2781         14257        78167           303\n",
              "3352         15471        84350           327\n",
              "2734         15471        85460           298\n",
              "2790         16373        89506           361\n",
              "\n",
              "[2176 rows x 3 columns]"
            ]
          },
          "execution_count": 31,
          "metadata": {},
          "output_type": "execute_result"
        }
      ],
      "source": [
        "df[df['Category']=='sport'][['num_of_words','num_of_char','num_of_sents']].sort_values(by='num_of_words',ascending=True)"
      ]
    },
    {
      "cell_type": "code",
      "execution_count": 32,
      "metadata": {
        "id": "l2Qx7hwInGyh"
      },
      "outputs": [
        {
          "data": {
            "text/html": [
              "<div>\n",
              "<style scoped>\n",
              "    .dataframe tbody tr th:only-of-type {\n",
              "        vertical-align: middle;\n",
              "    }\n",
              "\n",
              "    .dataframe tbody tr th {\n",
              "        vertical-align: top;\n",
              "    }\n",
              "\n",
              "    .dataframe thead th {\n",
              "        text-align: right;\n",
              "    }\n",
              "</style>\n",
              "<table border=\"1\" class=\"dataframe\">\n",
              "  <thead>\n",
              "    <tr style=\"text-align: right;\">\n",
              "      <th></th>\n",
              "      <th>num_of_words</th>\n",
              "      <th>num_of_char</th>\n",
              "      <th>num_of_sents</th>\n",
              "    </tr>\n",
              "  </thead>\n",
              "  <tbody>\n",
              "    <tr>\n",
              "      <th>3875</th>\n",
              "      <td>362</td>\n",
              "      <td>2071</td>\n",
              "      <td>1</td>\n",
              "    </tr>\n",
              "    <tr>\n",
              "      <th>2052</th>\n",
              "      <td>245</td>\n",
              "      <td>1407</td>\n",
              "      <td>1</td>\n",
              "    </tr>\n",
              "    <tr>\n",
              "      <th>2985</th>\n",
              "      <td>356</td>\n",
              "      <td>2040</td>\n",
              "      <td>1</td>\n",
              "    </tr>\n",
              "    <tr>\n",
              "      <th>3869</th>\n",
              "      <td>101</td>\n",
              "      <td>565</td>\n",
              "      <td>1</td>\n",
              "    </tr>\n",
              "    <tr>\n",
              "      <th>1826</th>\n",
              "      <td>158</td>\n",
              "      <td>963</td>\n",
              "      <td>1</td>\n",
              "    </tr>\n",
              "    <tr>\n",
              "      <th>...</th>\n",
              "      <td>...</td>\n",
              "      <td>...</td>\n",
              "      <td>...</td>\n",
              "    </tr>\n",
              "    <tr>\n",
              "      <th>337</th>\n",
              "      <td>4979</td>\n",
              "      <td>26379</td>\n",
              "      <td>185</td>\n",
              "    </tr>\n",
              "    <tr>\n",
              "      <th>2734</th>\n",
              "      <td>15471</td>\n",
              "      <td>85460</td>\n",
              "      <td>298</td>\n",
              "    </tr>\n",
              "    <tr>\n",
              "      <th>2781</th>\n",
              "      <td>14257</td>\n",
              "      <td>78167</td>\n",
              "      <td>303</td>\n",
              "    </tr>\n",
              "    <tr>\n",
              "      <th>3352</th>\n",
              "      <td>15471</td>\n",
              "      <td>84350</td>\n",
              "      <td>327</td>\n",
              "    </tr>\n",
              "    <tr>\n",
              "      <th>2790</th>\n",
              "      <td>16373</td>\n",
              "      <td>89506</td>\n",
              "      <td>361</td>\n",
              "    </tr>\n",
              "  </tbody>\n",
              "</table>\n",
              "<p>2176 rows × 3 columns</p>\n",
              "</div>"
            ],
            "text/plain": [
              "      num_of_words  num_of_char  num_of_sents\n",
              "3875           362         2071             1\n",
              "2052           245         1407             1\n",
              "2985           356         2040             1\n",
              "3869           101          565             1\n",
              "1826           158          963             1\n",
              "...            ...          ...           ...\n",
              "337           4979        26379           185\n",
              "2734         15471        85460           298\n",
              "2781         14257        78167           303\n",
              "3352         15471        84350           327\n",
              "2790         16373        89506           361\n",
              "\n",
              "[2176 rows x 3 columns]"
            ]
          },
          "execution_count": 32,
          "metadata": {},
          "output_type": "execute_result"
        }
      ],
      "source": [
        "df[df['Category']=='sport'][['num_of_words','num_of_char','num_of_sents']].sort_values(by='num_of_sents',ascending=True)"
      ]
    },
    {
      "cell_type": "code",
      "execution_count": 33,
      "metadata": {
        "id": "iwOk1xTMmHQV"
      },
      "outputs": [
        {
          "data": {
            "text/plain": [
              "' (CNN)Go Jessica!World No. 61 Jessica Pegula stunned No. 5 seed Elina Svitolina at the Australian Open to advance to the quarterfinals on Monday.The 26-year-old American, who is the daughter of the NFL team Buffalo Bills owners Kim and Terry Pegula, won 6-4, 3-6, 6-3 on Rod Laver Arena to reach the last eight of a grand slam for the first time.Pegula was the aggressor from the outset, with Svitolina unusually passive, allowing the American to dictate the early proceedings, clinching the first set.READ: Six years after his grandmother passed away, Nick Kyrgios grapples with demonsRead MorePegula celebrates after defeating  Svitolina.Ukrainian Svitolina rallied in the second set and helped by a patchy spell from Pegula leveled the match. But Pegula recovered her poise and ran away in the final set to reach the last eight of a grand slam for the first time in her career.\"I\\'m hitting the ball really well, I thought I served really well, which is really important, especially against the top players. Any extra free points you can get is huge,\" Pegula said afterwards.\"I\\'m just happy that I\\'m competing well, hitting well, moving well. I feel good, everything feels pretty solid, so I\\'m just going to take that to the next match.\"Pegula\\'s parents are also the owners of the NHL\\'s Buffalo Sabres and after her victory, she signed one of the TV cameras -- as is tradition --\"Hi Mom. Hi Dad. See u next rnd.\"Her victory also delighted the Bills\\' Twitter account, with it writing: \"LET\\'S GOOOOO.\"Pegula celebrates after defeating  Svitolina.In beating Svitolina, the 26-year-old recorded her first career top-10 victory. At this year\\'s grand slam, Pegula has already beaten two-time Australian Open champion Victoria Azarenka, US Open champion Sam Stosur and Kristina Mladenovic without dropping a set.For the 26-year-old Svitolina, it was her sixth grand slam loss to a player ranked outside the top 30 since she became a top-10 mainstay herself in May 2017 as she searches for her maiden grand slam title.\"It was not a good day for me today,\" Svitolina told the media afterwards. \"I was making way too many errors. It is tough to pick why it was like this but a mixture of things.\"It\\'s disappointing because I\\'ve been playing very good but I feel like it was one of those days where nothing was going my way.\"Visit CNN.com/sport for more news, features, and videosPegula plays a backhand in her match against Svitolina. Pegula\\'s victory sets up a meeting with her compatriot and No. 22 Jennifer Brady, who overcame No. 28 seed Donna Vekic 6-1, 7-5 on Monday.Brady had her own message for Pegula after the game, signing \"Bring it Jess\" before departing Rod Laver Arena.'"
            ]
          },
          "execution_count": 33,
          "metadata": {},
          "output_type": "execute_result"
        }
      ],
      "source": [
        "df['Article text'][1084]"
      ]
    },
    {
      "cell_type": "code",
      "execution_count": 34,
      "metadata": {
        "id": "LPhbAkwhh4Re"
      },
      "outputs": [
        {
          "data": {
            "text/html": [
              "<div>\n",
              "<style scoped>\n",
              "    .dataframe tbody tr th:only-of-type {\n",
              "        vertical-align: middle;\n",
              "    }\n",
              "\n",
              "    .dataframe tbody tr th {\n",
              "        vertical-align: top;\n",
              "    }\n",
              "\n",
              "    .dataframe thead th {\n",
              "        text-align: right;\n",
              "    }\n",
              "</style>\n",
              "<table border=\"1\" class=\"dataframe\">\n",
              "  <thead>\n",
              "    <tr style=\"text-align: right;\">\n",
              "      <th></th>\n",
              "      <th>num_of_char</th>\n",
              "      <th>num_of_words</th>\n",
              "      <th>num_of_sents</th>\n",
              "    </tr>\n",
              "  </thead>\n",
              "  <tbody>\n",
              "    <tr>\n",
              "      <th>count</th>\n",
              "      <td>2176.000000</td>\n",
              "      <td>2176.000000</td>\n",
              "      <td>2176.000000</td>\n",
              "    </tr>\n",
              "    <tr>\n",
              "      <th>mean</th>\n",
              "      <td>4164.183824</td>\n",
              "      <td>806.409007</td>\n",
              "      <td>23.852482</td>\n",
              "    </tr>\n",
              "    <tr>\n",
              "      <th>std</th>\n",
              "      <td>4611.783392</td>\n",
              "      <td>866.431570</td>\n",
              "      <td>23.706827</td>\n",
              "    </tr>\n",
              "    <tr>\n",
              "      <th>min</th>\n",
              "      <td>441.000000</td>\n",
              "      <td>75.000000</td>\n",
              "      <td>1.000000</td>\n",
              "    </tr>\n",
              "    <tr>\n",
              "      <th>25%</th>\n",
              "      <td>2149.000000</td>\n",
              "      <td>413.000000</td>\n",
              "      <td>11.000000</td>\n",
              "    </tr>\n",
              "    <tr>\n",
              "      <th>50%</th>\n",
              "      <td>3111.000000</td>\n",
              "      <td>597.000000</td>\n",
              "      <td>18.000000</td>\n",
              "    </tr>\n",
              "    <tr>\n",
              "      <th>75%</th>\n",
              "      <td>4899.000000</td>\n",
              "      <td>947.250000</td>\n",
              "      <td>29.000000</td>\n",
              "    </tr>\n",
              "    <tr>\n",
              "      <th>max</th>\n",
              "      <td>89506.000000</td>\n",
              "      <td>16373.000000</td>\n",
              "      <td>361.000000</td>\n",
              "    </tr>\n",
              "  </tbody>\n",
              "</table>\n",
              "</div>"
            ],
            "text/plain": [
              "        num_of_char  num_of_words  num_of_sents\n",
              "count   2176.000000   2176.000000   2176.000000\n",
              "mean    4164.183824    806.409007     23.852482\n",
              "std     4611.783392    866.431570     23.706827\n",
              "min      441.000000     75.000000      1.000000\n",
              "25%     2149.000000    413.000000     11.000000\n",
              "50%     3111.000000    597.000000     18.000000\n",
              "75%     4899.000000    947.250000     29.000000\n",
              "max    89506.000000  16373.000000    361.000000"
            ]
          },
          "execution_count": 34,
          "metadata": {},
          "output_type": "execute_result"
        }
      ],
      "source": [
        "df[df['Category']=='sport'][['num_of_char','num_of_words','num_of_sents']].describe()"
      ]
    },
    {
      "cell_type": "markdown",
      "metadata": {
        "id": "C2MUmGdaiXSA"
      },
      "source": [
        "**For sports category**\n",
        "* Min char = 441 & Max char is = 4899\n",
        "* Min words = 75 & Max words = 16373\n",
        "* Min sentences = 1 & Max sentences = 361\n",
        "\n",
        "* avg\n",
        "  * char - 4164\n",
        "  * words - 806\n",
        "  * sentences - 23\n",
        "\n"
      ]
    },
    {
      "cell_type": "code",
      "execution_count": 35,
      "metadata": {
        "id": "5g01RTJyiSFz"
      },
      "outputs": [
        {
          "data": {
            "text/html": [
              "<div>\n",
              "<style scoped>\n",
              "    .dataframe tbody tr th:only-of-type {\n",
              "        vertical-align: middle;\n",
              "    }\n",
              "\n",
              "    .dataframe tbody tr th {\n",
              "        vertical-align: top;\n",
              "    }\n",
              "\n",
              "    .dataframe thead th {\n",
              "        text-align: right;\n",
              "    }\n",
              "</style>\n",
              "<table border=\"1\" class=\"dataframe\">\n",
              "  <thead>\n",
              "    <tr style=\"text-align: right;\">\n",
              "      <th></th>\n",
              "      <th>num_of_char</th>\n",
              "      <th>num_of_words</th>\n",
              "      <th>num_of_sents</th>\n",
              "    </tr>\n",
              "  </thead>\n",
              "  <tbody>\n",
              "    <tr>\n",
              "      <th>count</th>\n",
              "      <td>58.000000</td>\n",
              "      <td>58.000000</td>\n",
              "      <td>58.000000</td>\n",
              "    </tr>\n",
              "    <tr>\n",
              "      <th>mean</th>\n",
              "      <td>3361.603448</td>\n",
              "      <td>666.448276</td>\n",
              "      <td>16.689655</td>\n",
              "    </tr>\n",
              "    <tr>\n",
              "      <th>std</th>\n",
              "      <td>2139.658629</td>\n",
              "      <td>437.464632</td>\n",
              "      <td>19.282941</td>\n",
              "    </tr>\n",
              "    <tr>\n",
              "      <th>min</th>\n",
              "      <td>712.000000</td>\n",
              "      <td>138.000000</td>\n",
              "      <td>4.000000</td>\n",
              "    </tr>\n",
              "    <tr>\n",
              "      <th>25%</th>\n",
              "      <td>2069.250000</td>\n",
              "      <td>433.750000</td>\n",
              "      <td>9.250000</td>\n",
              "    </tr>\n",
              "    <tr>\n",
              "      <th>50%</th>\n",
              "      <td>3199.500000</td>\n",
              "      <td>618.000000</td>\n",
              "      <td>12.000000</td>\n",
              "    </tr>\n",
              "    <tr>\n",
              "      <th>75%</th>\n",
              "      <td>4017.750000</td>\n",
              "      <td>766.750000</td>\n",
              "      <td>15.000000</td>\n",
              "    </tr>\n",
              "    <tr>\n",
              "      <th>max</th>\n",
              "      <td>14686.000000</td>\n",
              "      <td>2939.000000</td>\n",
              "      <td>142.000000</td>\n",
              "    </tr>\n",
              "  </tbody>\n",
              "</table>\n",
              "</div>"
            ],
            "text/plain": [
              "        num_of_char  num_of_words  num_of_sents\n",
              "count     58.000000     58.000000     58.000000\n",
              "mean    3361.603448    666.448276     16.689655\n",
              "std     2139.658629    437.464632     19.282941\n",
              "min      712.000000    138.000000      4.000000\n",
              "25%     2069.250000    433.750000      9.250000\n",
              "50%     3199.500000    618.000000     12.000000\n",
              "75%     4017.750000    766.750000     15.000000\n",
              "max    14686.000000   2939.000000    142.000000"
            ]
          },
          "execution_count": 35,
          "metadata": {},
          "output_type": "execute_result"
        }
      ],
      "source": [
        "df[df['Category']=='entertainment'][['num_of_char','num_of_words','num_of_sents']].describe()"
      ]
    },
    {
      "cell_type": "markdown",
      "metadata": {
        "id": "-JKlsF42n7kk"
      },
      "source": [
        "**For buisness category**\n",
        "* Minimum\n",
        "  * char - 712\n",
        "  * words - 138\n",
        "  * sentences - 4\n",
        "\n",
        "* Maximun\n",
        "  * char - 14686\n",
        "  * words - 2939\n",
        "  * sentences - 142\n",
        "\n",
        "* Avg\n",
        "  * char - 3361\n",
        "  * words - 666\n",
        "  * sentences - 16\n"
      ]
    },
    {
      "cell_type": "code",
      "execution_count": 36,
      "metadata": {
        "id": "K0Z1SXsFn5kO"
      },
      "outputs": [
        {
          "data": {
            "text/plain": [
              "Category\n",
              "sport            2176\n",
              "news             1611\n",
              "business          104\n",
              "politics           75\n",
              "entertainment      58\n",
              "health             52\n",
              "Name: count, dtype: int64"
            ]
          },
          "execution_count": 36,
          "metadata": {},
          "output_type": "execute_result"
        }
      ],
      "source": [
        "df['Category'].value_counts()"
      ]
    },
    {
      "cell_type": "code",
      "execution_count": 37,
      "metadata": {
        "id": "rjNIT4-Bo4iA"
      },
      "outputs": [
        {
          "data": {
            "text/html": [
              "<div>\n",
              "<style scoped>\n",
              "    .dataframe tbody tr th:only-of-type {\n",
              "        vertical-align: middle;\n",
              "    }\n",
              "\n",
              "    .dataframe tbody tr th {\n",
              "        vertical-align: top;\n",
              "    }\n",
              "\n",
              "    .dataframe thead th {\n",
              "        text-align: right;\n",
              "    }\n",
              "</style>\n",
              "<table border=\"1\" class=\"dataframe\">\n",
              "  <thead>\n",
              "    <tr style=\"text-align: right;\">\n",
              "      <th></th>\n",
              "      <th>num_of_char</th>\n",
              "      <th>num_of_words</th>\n",
              "      <th>num_of_sents</th>\n",
              "    </tr>\n",
              "  </thead>\n",
              "  <tbody>\n",
              "    <tr>\n",
              "      <th>count</th>\n",
              "      <td>58.000000</td>\n",
              "      <td>58.000000</td>\n",
              "      <td>58.000000</td>\n",
              "    </tr>\n",
              "    <tr>\n",
              "      <th>mean</th>\n",
              "      <td>3361.603448</td>\n",
              "      <td>666.448276</td>\n",
              "      <td>16.689655</td>\n",
              "    </tr>\n",
              "    <tr>\n",
              "      <th>std</th>\n",
              "      <td>2139.658629</td>\n",
              "      <td>437.464632</td>\n",
              "      <td>19.282941</td>\n",
              "    </tr>\n",
              "    <tr>\n",
              "      <th>min</th>\n",
              "      <td>712.000000</td>\n",
              "      <td>138.000000</td>\n",
              "      <td>4.000000</td>\n",
              "    </tr>\n",
              "    <tr>\n",
              "      <th>25%</th>\n",
              "      <td>2069.250000</td>\n",
              "      <td>433.750000</td>\n",
              "      <td>9.250000</td>\n",
              "    </tr>\n",
              "    <tr>\n",
              "      <th>50%</th>\n",
              "      <td>3199.500000</td>\n",
              "      <td>618.000000</td>\n",
              "      <td>12.000000</td>\n",
              "    </tr>\n",
              "    <tr>\n",
              "      <th>75%</th>\n",
              "      <td>4017.750000</td>\n",
              "      <td>766.750000</td>\n",
              "      <td>15.000000</td>\n",
              "    </tr>\n",
              "    <tr>\n",
              "      <th>max</th>\n",
              "      <td>14686.000000</td>\n",
              "      <td>2939.000000</td>\n",
              "      <td>142.000000</td>\n",
              "    </tr>\n",
              "  </tbody>\n",
              "</table>\n",
              "</div>"
            ],
            "text/plain": [
              "        num_of_char  num_of_words  num_of_sents\n",
              "count     58.000000     58.000000     58.000000\n",
              "mean    3361.603448    666.448276     16.689655\n",
              "std     2139.658629    437.464632     19.282941\n",
              "min      712.000000    138.000000      4.000000\n",
              "25%     2069.250000    433.750000      9.250000\n",
              "50%     3199.500000    618.000000     12.000000\n",
              "75%     4017.750000    766.750000     15.000000\n",
              "max    14686.000000   2939.000000    142.000000"
            ]
          },
          "execution_count": 37,
          "metadata": {},
          "output_type": "execute_result"
        }
      ],
      "source": [
        "df[df['Category']=='entertainment'][['num_of_char','num_of_words','num_of_sents']].describe()"
      ]
    },
    {
      "cell_type": "code",
      "execution_count": 38,
      "metadata": {
        "id": "QvkccXwDpHSC"
      },
      "outputs": [
        {
          "data": {
            "text/html": [
              "<div>\n",
              "<style scoped>\n",
              "    .dataframe tbody tr th:only-of-type {\n",
              "        vertical-align: middle;\n",
              "    }\n",
              "\n",
              "    .dataframe tbody tr th {\n",
              "        vertical-align: top;\n",
              "    }\n",
              "\n",
              "    .dataframe thead th {\n",
              "        text-align: right;\n",
              "    }\n",
              "</style>\n",
              "<table border=\"1\" class=\"dataframe\">\n",
              "  <thead>\n",
              "    <tr style=\"text-align: right;\">\n",
              "      <th></th>\n",
              "      <th>num_of_char</th>\n",
              "      <th>num_of_words</th>\n",
              "      <th>num_of_sents</th>\n",
              "    </tr>\n",
              "  </thead>\n",
              "  <tbody>\n",
              "    <tr>\n",
              "      <th>count</th>\n",
              "      <td>1611.000000</td>\n",
              "      <td>1611.000000</td>\n",
              "      <td>1611.000000</td>\n",
              "    </tr>\n",
              "    <tr>\n",
              "      <th>mean</th>\n",
              "      <td>6407.202359</td>\n",
              "      <td>1205.589696</td>\n",
              "      <td>37.638734</td>\n",
              "    </tr>\n",
              "    <tr>\n",
              "      <th>std</th>\n",
              "      <td>5786.488992</td>\n",
              "      <td>1131.426489</td>\n",
              "      <td>48.210523</td>\n",
              "    </tr>\n",
              "    <tr>\n",
              "      <th>min</th>\n",
              "      <td>373.000000</td>\n",
              "      <td>71.000000</td>\n",
              "      <td>1.000000</td>\n",
              "    </tr>\n",
              "    <tr>\n",
              "      <th>25%</th>\n",
              "      <td>2668.000000</td>\n",
              "      <td>486.500000</td>\n",
              "      <td>11.000000</td>\n",
              "    </tr>\n",
              "    <tr>\n",
              "      <th>50%</th>\n",
              "      <td>4431.000000</td>\n",
              "      <td>828.000000</td>\n",
              "      <td>22.000000</td>\n",
              "    </tr>\n",
              "    <tr>\n",
              "      <th>75%</th>\n",
              "      <td>8310.000000</td>\n",
              "      <td>1553.500000</td>\n",
              "      <td>48.000000</td>\n",
              "    </tr>\n",
              "    <tr>\n",
              "      <th>max</th>\n",
              "      <td>51554.000000</td>\n",
              "      <td>11359.000000</td>\n",
              "      <td>618.000000</td>\n",
              "    </tr>\n",
              "  </tbody>\n",
              "</table>\n",
              "</div>"
            ],
            "text/plain": [
              "        num_of_char  num_of_words  num_of_sents\n",
              "count   1611.000000   1611.000000   1611.000000\n",
              "mean    6407.202359   1205.589696     37.638734\n",
              "std     5786.488992   1131.426489     48.210523\n",
              "min      373.000000     71.000000      1.000000\n",
              "25%     2668.000000    486.500000     11.000000\n",
              "50%     4431.000000    828.000000     22.000000\n",
              "75%     8310.000000   1553.500000     48.000000\n",
              "max    51554.000000  11359.000000    618.000000"
            ]
          },
          "execution_count": 38,
          "metadata": {},
          "output_type": "execute_result"
        }
      ],
      "source": [
        "df[df['Category']=='news'][['num_of_char','num_of_words','num_of_sents']].describe()"
      ]
    },
    {
      "cell_type": "code",
      "execution_count": 39,
      "metadata": {
        "id": "GpW2w5iPpRI7"
      },
      "outputs": [
        {
          "data": {
            "text/html": [
              "<div>\n",
              "<style scoped>\n",
              "    .dataframe tbody tr th:only-of-type {\n",
              "        vertical-align: middle;\n",
              "    }\n",
              "\n",
              "    .dataframe tbody tr th {\n",
              "        vertical-align: top;\n",
              "    }\n",
              "\n",
              "    .dataframe thead th {\n",
              "        text-align: right;\n",
              "    }\n",
              "</style>\n",
              "<table border=\"1\" class=\"dataframe\">\n",
              "  <thead>\n",
              "    <tr style=\"text-align: right;\">\n",
              "      <th></th>\n",
              "      <th>num_of_char</th>\n",
              "      <th>num_of_words</th>\n",
              "      <th>num_of_sents</th>\n",
              "    </tr>\n",
              "  </thead>\n",
              "  <tbody>\n",
              "    <tr>\n",
              "      <th>count</th>\n",
              "      <td>75.000000</td>\n",
              "      <td>75.000000</td>\n",
              "      <td>75.000000</td>\n",
              "    </tr>\n",
              "    <tr>\n",
              "      <th>mean</th>\n",
              "      <td>9506.040000</td>\n",
              "      <td>1769.226667</td>\n",
              "      <td>58.626667</td>\n",
              "    </tr>\n",
              "    <tr>\n",
              "      <th>std</th>\n",
              "      <td>8029.881823</td>\n",
              "      <td>1521.005673</td>\n",
              "      <td>61.748131</td>\n",
              "    </tr>\n",
              "    <tr>\n",
              "      <th>min</th>\n",
              "      <td>1200.000000</td>\n",
              "      <td>211.000000</td>\n",
              "      <td>5.000000</td>\n",
              "    </tr>\n",
              "    <tr>\n",
              "      <th>25%</th>\n",
              "      <td>3708.000000</td>\n",
              "      <td>658.000000</td>\n",
              "      <td>19.000000</td>\n",
              "    </tr>\n",
              "    <tr>\n",
              "      <th>50%</th>\n",
              "      <td>6456.000000</td>\n",
              "      <td>1163.000000</td>\n",
              "      <td>39.000000</td>\n",
              "    </tr>\n",
              "    <tr>\n",
              "      <th>75%</th>\n",
              "      <td>12461.500000</td>\n",
              "      <td>2280.500000</td>\n",
              "      <td>73.500000</td>\n",
              "    </tr>\n",
              "    <tr>\n",
              "      <th>max</th>\n",
              "      <td>39223.000000</td>\n",
              "      <td>7849.000000</td>\n",
              "      <td>378.000000</td>\n",
              "    </tr>\n",
              "  </tbody>\n",
              "</table>\n",
              "</div>"
            ],
            "text/plain": [
              "        num_of_char  num_of_words  num_of_sents\n",
              "count     75.000000     75.000000     75.000000\n",
              "mean    9506.040000   1769.226667     58.626667\n",
              "std     8029.881823   1521.005673     61.748131\n",
              "min     1200.000000    211.000000      5.000000\n",
              "25%     3708.000000    658.000000     19.000000\n",
              "50%     6456.000000   1163.000000     39.000000\n",
              "75%    12461.500000   2280.500000     73.500000\n",
              "max    39223.000000   7849.000000    378.000000"
            ]
          },
          "execution_count": 39,
          "metadata": {},
          "output_type": "execute_result"
        }
      ],
      "source": [
        "df[df['Category']=='politics'][['num_of_char','num_of_words','num_of_sents']].describe()"
      ]
    },
    {
      "cell_type": "code",
      "execution_count": 40,
      "metadata": {
        "id": "KeM-eKcppXKY"
      },
      "outputs": [
        {
          "data": {
            "text/html": [
              "<div>\n",
              "<style scoped>\n",
              "    .dataframe tbody tr th:only-of-type {\n",
              "        vertical-align: middle;\n",
              "    }\n",
              "\n",
              "    .dataframe tbody tr th {\n",
              "        vertical-align: top;\n",
              "    }\n",
              "\n",
              "    .dataframe thead th {\n",
              "        text-align: right;\n",
              "    }\n",
              "</style>\n",
              "<table border=\"1\" class=\"dataframe\">\n",
              "  <thead>\n",
              "    <tr style=\"text-align: right;\">\n",
              "      <th></th>\n",
              "      <th>num_of_char</th>\n",
              "      <th>num_of_words</th>\n",
              "      <th>num_of_sents</th>\n",
              "    </tr>\n",
              "  </thead>\n",
              "  <tbody>\n",
              "    <tr>\n",
              "      <th>count</th>\n",
              "      <td>52.000000</td>\n",
              "      <td>52.000000</td>\n",
              "      <td>52.000000</td>\n",
              "    </tr>\n",
              "    <tr>\n",
              "      <th>mean</th>\n",
              "      <td>16556.980769</td>\n",
              "      <td>3309.884615</td>\n",
              "      <td>145.557692</td>\n",
              "    </tr>\n",
              "    <tr>\n",
              "      <th>std</th>\n",
              "      <td>11576.598582</td>\n",
              "      <td>2351.973111</td>\n",
              "      <td>120.278992</td>\n",
              "    </tr>\n",
              "    <tr>\n",
              "      <th>min</th>\n",
              "      <td>1778.000000</td>\n",
              "      <td>334.000000</td>\n",
              "      <td>9.000000</td>\n",
              "    </tr>\n",
              "    <tr>\n",
              "      <th>25%</th>\n",
              "      <td>9112.500000</td>\n",
              "      <td>1708.500000</td>\n",
              "      <td>55.250000</td>\n",
              "    </tr>\n",
              "    <tr>\n",
              "      <th>50%</th>\n",
              "      <td>14808.500000</td>\n",
              "      <td>3010.500000</td>\n",
              "      <td>131.000000</td>\n",
              "    </tr>\n",
              "    <tr>\n",
              "      <th>75%</th>\n",
              "      <td>20031.750000</td>\n",
              "      <td>4019.000000</td>\n",
              "      <td>191.500000</td>\n",
              "    </tr>\n",
              "    <tr>\n",
              "      <th>max</th>\n",
              "      <td>69888.000000</td>\n",
              "      <td>14306.000000</td>\n",
              "      <td>720.000000</td>\n",
              "    </tr>\n",
              "  </tbody>\n",
              "</table>\n",
              "</div>"
            ],
            "text/plain": [
              "        num_of_char  num_of_words  num_of_sents\n",
              "count     52.000000     52.000000     52.000000\n",
              "mean   16556.980769   3309.884615    145.557692\n",
              "std    11576.598582   2351.973111    120.278992\n",
              "min     1778.000000    334.000000      9.000000\n",
              "25%     9112.500000   1708.500000     55.250000\n",
              "50%    14808.500000   3010.500000    131.000000\n",
              "75%    20031.750000   4019.000000    191.500000\n",
              "max    69888.000000  14306.000000    720.000000"
            ]
          },
          "execution_count": 40,
          "metadata": {},
          "output_type": "execute_result"
        }
      ],
      "source": [
        "df[df['Category']=='health'][['num_of_char','num_of_words','num_of_sents']].describe()"
      ]
    },
    {
      "cell_type": "code",
      "execution_count": 41,
      "metadata": {
        "id": "OTGdeRjOpcVi"
      },
      "outputs": [
        {
          "data": {
            "image/png": "[encoded data removed]",
            "text/plain": [
              "<Figure size 1000x500 with 1 Axes>"
            ]
          },
          "metadata": {},
          "output_type": "display_data"
        }
      ],
      "source": [
        "plt.figure(figsize=(10,5))\n",
        "sns.histplot(df[df['Category']=='sport']['num_of_char'])\n",
        "sns.histplot(df[df['Category']=='entertainment']['num_of_char'],color='red')\n",
        "sns.histplot(df[df['Category']=='news']['num_of_char'],color='green')\n",
        "sns.histplot(df[df['Category']=='politics']['num_of_char'],color='purple')\n",
        "sns.histplot(df[df['Category']=='health']['num_of_char'],color='orange')\n",
        "sns.histplot(df[df['Category']=='business']['num_of_char'],color='blue')\n",
        "plt.legend(['sport','entertainment','news','politics','health','business'])\n",
        "plt.show()"
      ]
    },
    {
      "cell_type": "code",
      "execution_count": 42,
      "metadata": {
        "id": "lG4KYE23p2Fj"
      },
      "outputs": [
        {
          "data": {
            "image/png": "[encoded data removed]",
            "text/plain": [
              "<Figure size 1000x500 with 1 Axes>"
            ]
          },
          "metadata": {},
          "output_type": "display_data"
        }
      ],
      "source": [
        "plt.figure(figsize=(10,5))\n",
        "sns.histplot(df[df['Category']=='sport']['num_of_words'])\n",
        "sns.histplot(df[df['Category']=='entertainment']['num_of_words'],color='red')\n",
        "sns.histplot(df[df['Category']=='news']['num_of_words'],color='green')\n",
        "sns.histplot(df[df['Category']=='politics']['num_of_words'],color='purple')\n",
        "sns.histplot(df[df['Category']=='health']['num_of_words'],color='orange')\n",
        "sns.histplot(df[df['Category']=='business']['num_of_words'],color='blue')\n",
        "plt.legend(['sport','entertainment','news','politics','health','business'])\n",
        "plt.show()"
      ]
    },
    {
      "cell_type": "code",
      "execution_count": 43,
      "metadata": {
        "id": "Q5RwCGMjrBrO"
      },
      "outputs": [
        {
          "data": {
            "image/png": "[encoded data removed]",
            "text/plain": [
              "<Figure size 1000x500 with 1 Axes>"
            ]
          },
          "metadata": {},
          "output_type": "display_data"
        }
      ],
      "source": [
        "plt.figure(figsize=(10,5))\n",
        "sns.histplot(df[df['Category']=='sport']['num_of_sents'])\n",
        "sns.histplot(df[df['Category']=='entertainment']['num_of_sents'],color='red')\n",
        "sns.histplot(df[df['Category']=='news']['num_of_sents'],color='green')\n",
        "sns.histplot(df[df['Category']=='politics']['num_of_sents'],color='purple')\n",
        "sns.histplot(df[df['Category']=='health']['num_of_sents'],color='orange')\n",
        "sns.histplot(df[df['Category']=='business']['num_of_sents'],color='blue')\n",
        "plt.legend(['sport','entertainment','news','politics','health','business'])\n",
        "plt.show()"
      ]
    },
    {
      "cell_type": "code",
      "execution_count": 44,
      "metadata": {
        "id": "1ym8MHr9rsjo"
      },
      "outputs": [
        {
          "name": "stderr",
          "output_type": "stream",
          "text": [
            "C:\\Users\\HP\\AppData\\Local\\Temp\\ipykernel_8604\\1187032244.py:4: SettingWithCopyWarning: \n",
            "A value is trying to be set on a copy of a slice from a DataFrame.\n",
            "Try using .loc[row_indexer,col_indexer] = value instead\n",
            "\n",
            "See the caveats in the documentation: https://pandas.pydata.org/pandas-docs/stable/user_guide/indexing.html#returning-a-view-versus-a-copy\n",
            "  num_df['Category'] = le.fit_transform(num_df['Category'])\n"
          ]
        }
      ],
      "source": [
        "from sklearn.preprocessing import LabelEncoder\n",
        "le = LabelEncoder()\n",
        "num_df = df[['num_of_char','num_of_words','num_of_sents','Category']]\n",
        "num_df['Category'] = le.fit_transform(num_df['Category'])"
      ]
    },
    {
      "cell_type": "code",
      "execution_count": 45,
      "metadata": {
        "id": "ARZgXWyNrXB2"
      },
      "outputs": [
        {
          "data": {
            "image/png": "[encoded data removed]",
            "text/plain": [
              "<Figure size 640x480 with 2 Axes>"
            ]
          },
          "metadata": {},
          "output_type": "display_data"
        }
      ],
      "source": [
        "sns.heatmap(num_df.corr(),annot=True)\n",
        "plt.show()"
      ]
    },
    {
      "cell_type": "code",
      "execution_count": 47,
      "metadata": {
        "id": "b34g7IdPrQUD"
      },
      "outputs": [],
      "source": [
        "import wordcloud\n",
        "from wordcloud import WordCloud"
      ]
    },
    {
      "cell_type": "markdown",
      "metadata": {
        "id": "V3zaCogKy4bW"
      },
      "source": [
        "# **Text Preprocessing**\n",
        "\n",
        "   * Lower case\n",
        "   * Tokenize\n",
        "   * Remove stopwords\n",
        "   * Remove special char and punctuation\n",
        "   * Stemming / Lemmitization\n"
      ]
    },
    {
      "cell_type": "code",
      "execution_count": 48,
      "metadata": {
        "id": "I5J-cDAv1EnE"
      },
      "outputs": [
        {
          "name": "stderr",
          "output_type": "stream",
          "text": [
            "[nltk_data] Downloading package stopwords to\n",
            "[nltk_data]     C:\\Users\\HP\\AppData\\Roaming\\nltk_data...\n",
            "[nltk_data]   Package stopwords is already up-to-date!\n"
          ]
        },
        {
          "data": {
            "text/plain": [
              "True"
            ]
          },
          "execution_count": 48,
          "metadata": {},
          "output_type": "execute_result"
        }
      ],
      "source": [
        "from nltk.corpus import stopwords\n",
        "nltk.download('stopwords')"
      ]
    },
    {
      "cell_type": "code",
      "execution_count": 49,
      "metadata": {
        "id": "6Kp9FZES2H7v"
      },
      "outputs": [
        {
          "data": {
            "text/plain": [
              "'!\"#$%&\\'()*+,-./:;<=>?@[\\\\]^_`{|}~'"
            ]
          },
          "execution_count": 49,
          "metadata": {},
          "output_type": "execute_result"
        }
      ],
      "source": [
        "import string\n",
        "string.punctuation"
      ]
    },
    {
      "cell_type": "code",
      "execution_count": 50,
      "metadata": {
        "id": "uNffm-Zt2cGK"
      },
      "outputs": [],
      "source": [
        "from nltk.stem.porter import PorterStemmer\n",
        "ps = PorterStemmer()"
      ]
    },
    {
      "cell_type": "code",
      "execution_count": 51,
      "metadata": {
        "id": "wqsdHPSJK4qj"
      },
      "outputs": [],
      "source": [
        "words = ['said','say','like','cnn','us','also']"
      ]
    },
    {
      "cell_type": "code",
      "execution_count": 52,
      "metadata": {
        "id": "CZvqrr041Lp_"
      },
      "outputs": [],
      "source": [
        "def txt_process(text):\n",
        "  text = text.lower() # convert to lower\n",
        "  token = nltk.word_tokenize(text) # tokenize words\n",
        "\n",
        "  # remove stopwords\n",
        "  y = []\n",
        "  for i in token:\n",
        "    if i not in stopwords.words('english') and i not in string.punctuation:\n",
        "      y.append(i)\n",
        "\n",
        "  text = y[:]\n",
        "  y.clear()\n",
        "\n",
        "  # remove special char\n",
        "  for i in text:\n",
        "    if i.isalnum():\n",
        "      y.append(i)\n",
        "\n",
        "  text = y[:]\n",
        "  y.clear()\n",
        "\n",
        "  # Stemming\n",
        "  for i in text:\n",
        "    y.append(ps.stem(i))\n",
        "\n",
        "  text = y[:]\n",
        "  y.clear()\n",
        "  text_str = \" \".join(text)\n",
        "\n",
        "  for i in text_str.split():\n",
        "    if i not in words:\n",
        "      y.append(i)\n",
        "\n",
        "  return \" \".join(y)"
      ]
    },
    {
      "cell_type": "code",
      "execution_count": null,
      "metadata": {
        "id": "0tt3U6st2w06"
      },
      "outputs": [],
      "source": [
        "import tqdm\n",
        "df['Processed_text'] = df['Article text'].apply(txt_process)"
      ]
    },
    {
      "cell_type": "code",
      "execution_count": null,
      "metadata": {
        "id": "bV2phROBAmVK"
      },
      "outputs": [],
      "source": [
        "df['Category'].value_counts()"
      ]
    },
    {
      "cell_type": "code",
      "execution_count": null,
      "metadata": {
        "id": "GprnXgBM_ReI"
      },
      "outputs": [],
      "source": [
        "df"
      ]
    },
    {
      "cell_type": "code",
      "execution_count": null,
      "metadata": {
        "id": "JBnAdX482pi3"
      },
      "outputs": [],
      "source": [
        "wc = WordCloud(width=500,height=500,min_font_size=10,background_color='white')"
      ]
    },
    {
      "cell_type": "code",
      "execution_count": null,
      "metadata": {
        "id": "EGkuHBle2vN2"
      },
      "outputs": [],
      "source": [
        "news_text = df[df['Category']=='news']['Processed_text'].str.cat(sep=\" \")\n",
        "news_wc = wc.generate(news_text)"
      ]
    },
    {
      "cell_type": "code",
      "execution_count": null,
      "metadata": {
        "id": "73EWCkYY3RTY"
      },
      "outputs": [],
      "source": [
        "fig = plt.figure(figsize=(15,6))\n",
        "plt.imshow(news_wc)"
      ]
    },
    {
      "cell_type": "code",
      "execution_count": null,
      "metadata": {
        "id": "kOcQ1EFT3d_e"
      },
      "outputs": [],
      "source": [
        "sport_text = (df[df['Category']=='sport']['Processed_text']).str.cat(sep=\" \")\n",
        "sport_wc = wc.generate(sport_text)\n",
        "fig = plt.figure(figsize=(15,6))\n",
        "plt.imshow(sport_wc)"
      ]
    },
    {
      "cell_type": "code",
      "execution_count": null,
      "metadata": {
        "id": "Bz4ovO5R3okH"
      },
      "outputs": [],
      "source": [
        "buisness_text = (df[df['Category']=='business']['Processed_text']).str.cat(sep=\" \")\n",
        "buisness_wc = wc.generate(buisness_text)\n",
        "fig = plt.figure(figsize=(15,6))\n",
        "plt.imshow(buisness_wc)"
      ]
    },
    {
      "cell_type": "code",
      "execution_count": null,
      "metadata": {
        "id": "ZUBEuEiE3398"
      },
      "outputs": [],
      "source": [
        "health_text = (df[df['Category']=='health']['Processed_text']).str.cat(sep=\" \")\n",
        "health_wc = wc.generate(health_text)\n",
        "fig = plt.figure(figsize=(15,6))\n",
        "plt.imshow(health_wc)"
      ]
    },
    {
      "cell_type": "code",
      "execution_count": null,
      "metadata": {
        "id": "hGKxRmKn4XBK"
      },
      "outputs": [],
      "source": [
        "entertain_text = (df[df['Category']=='entertainment']['Processed_text']).str.cat(sep=\" \")\n",
        "entertain_wc = wc.generate(entertain_text)\n",
        "fig = plt.figure(figsize=(15,6))\n",
        "plt.imshow(entertain_wc)"
      ]
    },
    {
      "cell_type": "code",
      "execution_count": null,
      "metadata": {
        "id": "_5II6WPo4z65"
      },
      "outputs": [],
      "source": [
        "politics_text = (df[df['Category']=='politics']['Processed_text']).str.cat(sep=\" \")\n",
        "politics_wc = wc.generate(politics_text)\n",
        "fig = plt.figure(figsize=(15,6))\n",
        "plt.imshow(politics_wc)"
      ]
    },
    {
      "cell_type": "markdown",
      "metadata": {
        "id": "o8kONetG5YIk"
      },
      "source": [
        "# **Counting most common or Frequent words in each category**"
      ]
    },
    {
      "cell_type": "code",
      "execution_count": null,
      "metadata": {
        "id": "tS2NXTk35kR3"
      },
      "outputs": [],
      "source": [
        "from collections import Counter"
      ]
    },
    {
      "cell_type": "code",
      "execution_count": null,
      "metadata": {
        "id": "sWl4Fea87ECw"
      },
      "outputs": [],
      "source": [
        "news_corpus = []\n",
        "\n",
        "# seperating the sentences in news category and appending every single word into the list\n",
        "for msg in df[df['Category']=='news']['Processed_text'].tolist():\n",
        "  for word in msg.split():\n",
        "    news_corpus.append(word)\n",
        "\n",
        "# filtering out the most common 30 words that occur frequently in news category\n",
        "Counter(news_corpus).most_common(10)\n",
        "\n",
        "# plotting the word vs count plot\n",
        "news_corpus_df =  pd.DataFrame(Counter(news_corpus).most_common(30),columns=['word','count'])\n",
        "fig = plt.figure(figsize=(15,6))\n",
        "sns.barplot(data=news_corpus_df,x='word',y='count',orient = 'vertical')\n",
        "plt.show()"
      ]
    },
    {
      "cell_type": "code",
      "execution_count": null,
      "metadata": {
        "id": "AWtKb-JY8JKv"
      },
      "outputs": [],
      "source": [
        "sport_corpus = []\n",
        "\n",
        "for msg in df[df['Category']=='sport']['Processed_text'].tolist():\n",
        "  for word in msg.split():\n",
        "    sport_corpus.append(word)\n",
        "\n",
        "Counter(sport_corpus).most_common(30)\n",
        "\n",
        "sport_corpus_df = pd.DataFrame(Counter(sport_corpus).most_common(30),columns=['word','count'])\n",
        "fig = plt.figure(figsize=(15,6))\n",
        "sns.barplot(data=sport_corpus_df,x='word',y='count')\n",
        "plt.show()"
      ]
    },
    {
      "cell_type": "code",
      "execution_count": null,
      "metadata": {
        "id": "Q3nKbsVu8xL1"
      },
      "outputs": [],
      "source": [
        "buisness_corpus = []\n",
        "\n",
        "for msg in df[df['Category']=='business']['Processed_text'].tolist():\n",
        "  for word in msg.split():\n",
        "    buisness_corpus.append(word)\n",
        "\n",
        "Counter(buisness_corpus).most_common(30)\n",
        "\n",
        "buisness_corpus_df = pd.DataFrame(Counter(buisness_corpus).most_common(30),columns=['word','count'])\n",
        "fig = plt.figure(figsize=(15,6))\n",
        "sns.barplot(data=buisness_corpus_df,x='word',y='count')\n",
        "plt.show()"
      ]
    },
    {
      "cell_type": "code",
      "execution_count": null,
      "metadata": {
        "id": "DMI4ZvuT9KVD"
      },
      "outputs": [],
      "source": [
        "entertain_corpus = []\n",
        "\n",
        "for msg in df[df['Category']=='entertainment']['Processed_text'].tolist():\n",
        "  for word in msg.split():\n",
        "    entertain_corpus.append(word)\n",
        "\n",
        "Counter(entertain_corpus).most_common(30)\n",
        "\n",
        "entertain_corpus_df = pd.DataFrame(Counter(entertain_corpus).most_common(30),columns=['word','count'])\n",
        "fig = plt.figure(figsize=(15,6))\n",
        "sns.barplot(data=entertain_corpus_df,x='word',y='count')\n",
        "plt.show()"
      ]
    },
    {
      "cell_type": "code",
      "execution_count": null,
      "metadata": {
        "id": "6Fx9q9eG9eNF"
      },
      "outputs": [],
      "source": [
        "politics_corpus = []\n",
        "\n",
        "for msg in df[df['Category']=='politics']['Processed_text'].tolist():\n",
        "  for word in msg.split():\n",
        "    politics_corpus.append(word)\n",
        "\n",
        "Counter(politics_corpus).most_common(30)\n",
        "\n",
        "politics_corpus_df  = pd.DataFrame(Counter(politics_corpus).most_common(30),columns=['word','count'])\n",
        "fig = plt.figure(figsize=(15,6))\n",
        "sns.barplot(data=politics_corpus_df,x='word',y='count')\n",
        "plt.show()"
      ]
    },
    {
      "cell_type": "code",
      "execution_count": null,
      "metadata": {
        "id": "FD_dMcAa9rOD"
      },
      "outputs": [],
      "source": [
        "health_corpus = []\n",
        "\n",
        "for msg in df[df['Category']=='health']['Processed_text'].tolist():\n",
        "  for word in msg.split():\n",
        "    health_corpus.append(word)\n",
        "\n",
        "Counter(health_corpus).most_common(30)\n",
        "\n",
        "health_corpus_df = pd.DataFrame(Counter(health_corpus).most_common(30),columns=['word','count'])\n",
        "fig = plt.figure(figsize=(15,6))\n",
        "sns.barplot(data=health_corpus_df,x='word',y='count')\n",
        "plt.show()"
      ]
    },
    {
      "cell_type": "markdown",
      "metadata": {
        "id": "6zOj1cLjCPmB"
      },
      "source": [
        "* We have realized that words like say, said, cnn, like, us, also, etc. have occured which doesn't makes sense into classifying these into the respecive Categories\n",
        "\n",
        "* We have to try removing these words and again analyze the text."
      ]
    },
    {
      "cell_type": "code",
      "execution_count": null,
      "metadata": {
        "id": "z8dYIEdtC_er"
      },
      "outputs": [],
      "source": [
        "# words = ['said','say','like','cnn','us','also']\n",
        "# z = []\n",
        "# def process(text):\n",
        "#   for i in text.split():\n",
        "#     if i not in words:\n",
        "#       z.append(i)\n",
        "\n",
        "#   return \" \".join(z)"
      ]
    },
    {
      "cell_type": "code",
      "execution_count": null,
      "metadata": {
        "id": "MCoYdVuoDiNB"
      },
      "outputs": [],
      "source": [
        "# df['Processed_text'] = df['Processed_text'].apply(process)"
      ]
    },
    {
      "cell_type": "code",
      "execution_count": null,
      "metadata": {
        "id": "2fV7Qw2WD2Re"
      },
      "outputs": [],
      "source": [
        "df"
      ]
    },
    {
      "cell_type": "code",
      "execution_count": null,
      "metadata": {
        "id": "LT8I8NfZDv6U"
      },
      "outputs": [],
      "source": [
        "news_text = df[df['Category']=='news']['Processed_text'].str.cat(sep=\" \")\n",
        "news_wc = wc.generate(news_text)\n",
        "fig = plt.figure(figsize=(15,6))\n",
        "plt.imshow(news_wc)"
      ]
    },
    {
      "cell_type": "code",
      "execution_count": null,
      "metadata": {
        "id": "ri0V9nI1FrXv"
      },
      "outputs": [],
      "source": [
        "sport_text = (df[df['Category']=='sport']['Processed_text']).str.cat(sep=\" \")\n",
        "sport_wc = wc.generate(sport_text)\n",
        "fig = plt.figure(figsize=(15,6))\n",
        "plt.imshow(sport_wc)"
      ]
    },
    {
      "cell_type": "code",
      "execution_count": null,
      "metadata": {
        "id": "im8W23g-GdxD"
      },
      "outputs": [],
      "source": [
        "entertain_text = (df[df['Category']=='entertainment']['Processed_text']).str.cat(sep=\" \")\n",
        "entertain_wc = wc.generate(entertain_text)\n",
        "fig = plt.figure(figsize=(15,6))\n",
        "plt.imshow(entertain_wc)"
      ]
    },
    {
      "cell_type": "code",
      "execution_count": null,
      "metadata": {
        "id": "awFBUnYzGmGK"
      },
      "outputs": [],
      "source": [
        "buisness_text = (df[df['Category']=='business']['Processed_text']).str.cat(sep=\" \")\n",
        "buisness_wc = wc.generate(buisness_text)\n",
        "fig = plt.figure(figsize=(15,6))\n",
        "plt.imshow(buisness_wc)"
      ]
    },
    {
      "cell_type": "code",
      "execution_count": null,
      "metadata": {
        "id": "CeK3BlfsGpy4"
      },
      "outputs": [],
      "source": [
        "health_text = (df[df['Category']=='health']['Processed_text']).str.cat(sep=\" \")\n",
        "health_wc = wc.generate(health_text)\n",
        "fig = plt.figure(figsize=(15,6))\n",
        "plt.imshow(health_wc)"
      ]
    },
    {
      "cell_type": "code",
      "execution_count": null,
      "metadata": {
        "id": "YqVDiknnGwCh"
      },
      "outputs": [],
      "source": [
        "politics_text = (df[df['Category']=='politics']['Processed_text']).str.cat(sep=\" \")\n",
        "politics_wc = wc.generate(politics_text)\n",
        "fig = plt.figure(figsize=(15,6))\n",
        "plt.imshow(politics_wc)"
      ]
    },
    {
      "cell_type": "markdown",
      "metadata": {
        "id": "uWGrnw8o99nv"
      },
      "source": [
        "# **Model Building**"
      ]
    },
    {
      "cell_type": "code",
      "execution_count": null,
      "metadata": {
        "id": "YJZLMuvwPAE1"
      },
      "outputs": [],
      "source": [
        "df['Category'].value_counts()"
      ]
    },
    {
      "cell_type": "code",
      "execution_count": null,
      "metadata": {
        "id": "WCCO1uPd-B6u"
      },
      "outputs": [],
      "source": [
        "from sklearn.feature_extraction.text import CountVectorizer,TfidfVectorizer\n",
        "from sklearn.model_selection import train_test_split\n",
        "from sklearn.naive_bayes import MultinomialNB, GaussianNB, BernoulliNB\n",
        "from sklearn.metrics import accuracy_score,confusion_matrix,classification_report\n",
        "cv = CountVectorizer(max_features = 3000)\n",
        "tfidf = TfidfVectorizer(max_features = 3000)"
      ]
    },
    {
      "cell_type": "code",
      "execution_count": null,
      "metadata": {
        "id": "BDDko1IY-zVv"
      },
      "outputs": [],
      "source": [
        "X = cv.fit_transform(df['Processed_text']).toarray()"
      ]
    },
    {
      "cell_type": "code",
      "execution_count": null,
      "metadata": {
        "id": "AATXYRlvyKPx"
      },
      "outputs": [],
      "source": [
        "feature_names = cv.get_feature_names_out()\n",
        "total_words = len(feature_names)\n",
        "print(f\"Total number of words in vocabulary: {total_words}\")"
      ]
    },
    {
      "cell_type": "code",
      "execution_count": null,
      "metadata": {
        "id": "mUuQ_w04-51_"
      },
      "outputs": [],
      "source": [
        "X.shape"
      ]
    },
    {
      "cell_type": "code",
      "execution_count": null,
      "metadata": {
        "id": "_IxPapom-8Bs"
      },
      "outputs": [],
      "source": [
        "pd.Series(le.fit_transform(df['Category'])).value_counts()"
      ]
    },
    {
      "cell_type": "code",
      "execution_count": null,
      "metadata": {
        "id": "2FpTkypmT3va"
      },
      "outputs": [],
      "source": [
        "from sklearn.preprocessing import LabelEncoder\n",
        "le = LabelEncoder()"
      ]
    },
    {
      "cell_type": "code",
      "execution_count": null,
      "metadata": {
        "id": "guAk0KQ8HHRc"
      },
      "outputs": [],
      "source": [
        "y = df['Category'].values"
      ]
    },
    {
      "cell_type": "code",
      "execution_count": null,
      "metadata": {
        "id": "EeGimxRiToZR"
      },
      "outputs": [],
      "source": [
        "y"
      ]
    },
    {
      "cell_type": "code",
      "execution_count": null,
      "metadata": {
        "id": "5bcDhDrFHHME"
      },
      "outputs": [],
      "source": [
        "from sklearn.model_selection import train_test_split\n",
        "X_train,X_test,y_train,y_test = train_test_split(X,y,test_size=0.2,random_state=2)"
      ]
    },
    {
      "cell_type": "code",
      "execution_count": null,
      "metadata": {
        "id": "qRdBeOIzU3ay"
      },
      "outputs": [],
      "source": [
        "y_train"
      ]
    },
    {
      "cell_type": "code",
      "execution_count": null,
      "metadata": {
        "id": "R_LEgjtdU0Hx"
      },
      "outputs": [],
      "source": [
        "y_train = le.fit_transform(y_train)\n",
        "y_test = le.transform(y_test)"
      ]
    },
    {
      "cell_type": "code",
      "execution_count": null,
      "metadata": {
        "id": "ijRT0JAfHHIN"
      },
      "outputs": [],
      "source": [
        "from sklearn.naive_bayes import GaussianNB, MultinomialNB, BernoulliNB\n",
        "from sklearn.metrics import accuracy_score, confusion_matrix, precision_score, f1_score\n",
        "from sklearn.linear_model import LogisticRegression\n",
        "from sklearn.svm import SVC\n",
        "from sklearn.naive_bayes import MultinomialNB\n",
        "from sklearn.tree import DecisionTreeClassifier\n",
        "from sklearn.neighbors import KNeighborsClassifier\n",
        "from sklearn.ensemble import RandomForestClassifier\n",
        "from sklearn.ensemble import AdaBoostClassifier\n",
        "from sklearn.ensemble import BaggingClassifier\n",
        "from sklearn.ensemble import ExtraTreesClassifier\n",
        "from sklearn.ensemble import GradientBoostingClassifier\n",
        "from xgboost import XGBClassifier"
      ]
    },
    {
      "cell_type": "code",
      "execution_count": null,
      "metadata": {
        "id": "mb5jzcdiHHBr"
      },
      "outputs": [],
      "source": [
        "svc = SVC(kernel='sigmoid', gamma=1.0)\n",
        "knc = KNeighborsClassifier()\n",
        "gnb = GaussianNB()\n",
        "bnb = BernoulliNB()\n",
        "mnb = MultinomialNB()\n",
        "dtc = DecisionTreeClassifier(max_depth=5)\n",
        "lrc = LogisticRegression(solver='liblinear', penalty='l1')\n",
        "rfc = RandomForestClassifier(n_estimators=50, random_state=2)\n",
        "abc = AdaBoostClassifier(n_estimators=50, random_state=2)\n",
        "bc = BaggingClassifier(n_estimators=50, random_state=2)\n",
        "etc = ExtraTreesClassifier(n_estimators=50, random_state=2)\n",
        "gdbt = GradientBoostingClassifier(n_estimators=50, random_state=2)\n",
        "xgb = XGBClassifier(n_estimators=50, random_state=2)"
      ]
    },
    {
      "cell_type": "code",
      "execution_count": null,
      "metadata": {
        "id": "TvAb6ILYHG-b"
      },
      "outputs": [],
      "source": [
        "clfs = {\n",
        "    'SVC' : svc,\n",
        "    'KN' : knc,\n",
        "    'GNB': gnb,\n",
        "    'BNB' : bnb,\n",
        "    'MNB': mnb,\n",
        "    'DT': dtc,\n",
        "    'LR': lrc,\n",
        "    'RF': rfc,\n",
        "    'AdaBoost': abc,\n",
        "    'BgC': bc,\n",
        "    'ETC': etc,\n",
        "    'GBDT': gdbt,\n",
        "    'xgb': xgb\n",
        "}"
      ]
    },
    {
      "cell_type": "code",
      "execution_count": null,
      "metadata": {
        "id": "HV-2Fuv3HG67"
      },
      "outputs": [],
      "source": [
        "def train(clf, X_train, y_train, X_test, y_test):\n",
        "  clf.fit(X_train,y_train)\n",
        "  y_pred = clf.predict(X_test)\n",
        "  accuracy = accuracy_score(y_test,y_pred)\n",
        "  precision = precision_score(y_test,y_pred,average='macro')\n",
        "  f1 = f1_score(y_test, y_pred, average='macro')\n",
        "\n",
        "  return accuracy, precision, f1"
      ]
    },
    {
      "cell_type": "code",
      "execution_count": null,
      "metadata": {
        "id": "828uihpFHG3j"
      },
      "outputs": [],
      "source": [
        "accuracy_scores = []\n",
        "precision_scores = []\n",
        "f1_scores = []\n",
        "\n",
        "for name, clf in clfs.items():\n",
        "  current_accuracy, current_precision, current_f1 = train(clf, X_train, y_train, X_test, y_test)\n",
        "\n",
        "  print(\"For \", name)\n",
        "  print(\"Accuracy - \", current_accuracy)\n",
        "  print(\"Precision - \", current_precision)\n",
        "  print(\"F1_Score - \", current_f1)\n",
        "\n",
        "  accuracy_scores.append(current_accuracy)\n",
        "  precision_scores.append(current_precision)\n",
        "  f1_scores.append(current_f1)"
      ]
    },
    {
      "cell_type": "code",
      "execution_count": null,
      "metadata": {
        "id": "C-g8CWtcHG0b"
      },
      "outputs": [],
      "source": [
        "result = pd.DataFrame({'Algorithm':clfs.keys(),\n",
        "                       'Accuracy':accuracy_scores,\n",
        "                       'Precision':precision_scores,\n",
        "                       'F1_Score':f1_scores}).sort_values('Precision',ascending=False)"
      ]
    },
    {
      "cell_type": "code",
      "execution_count": null,
      "metadata": {
        "id": "pqR2T2saHGxM"
      },
      "outputs": [],
      "source": [
        "result"
      ]
    },
    {
      "cell_type": "code",
      "execution_count": null,
      "metadata": {
        "id": "2oaZzK6rXJLy"
      },
      "outputs": [],
      "source": [
        "result2 = pd.DataFrame({'Algorithm':clfs.keys(),\n",
        "                       'Accuracy':accuracy_scores,\n",
        "                       'Precision':precision_scores,\n",
        "                       'F1_Score':f1_scores}).sort_values('F1_Score',ascending=False)"
      ]
    },
    {
      "cell_type": "code",
      "execution_count": null,
      "metadata": {
        "id": "tbN7SYmNXL7r"
      },
      "outputs": [],
      "source": [
        "result2"
      ]
    },
    {
      "cell_type": "code",
      "execution_count": null,
      "metadata": {
        "id": "nHZp7SVL-qZ4"
      },
      "outputs": [],
      "source": [
        "from sklearn.metrics import confusion_matrix, ConfusionMatrixDisplay\n",
        "import matplotlib.pyplot as plt"
      ]
    },
    {
      "cell_type": "code",
      "execution_count": null,
      "metadata": {
        "id": "abG2722A-0Xi"
      },
      "outputs": [],
      "source": [
        "y_pred = xgb.predict(X_test)"
      ]
    },
    {
      "cell_type": "code",
      "execution_count": null,
      "metadata": {
        "id": "v0xqrU8w-6Pf"
      },
      "outputs": [],
      "source": [
        "cm = confusion_matrix(y_test, y_pred)"
      ]
    },
    {
      "cell_type": "code",
      "execution_count": null,
      "metadata": {
        "id": "RUTnUzCl--pV"
      },
      "outputs": [],
      "source": [
        "disp = ConfusionMatrixDisplay(confusion_matrix=cm, display_labels=le.classes_)\n",
        "disp.plot()\n",
        "plt.show()"
      ]
    },
    {
      "cell_type": "code",
      "execution_count": null,
      "metadata": {
        "id": "1moS6gW8AYZU"
      },
      "outputs": [],
      "source": [
        "y_pred_mnb = mnb.predict(X_test)"
      ]
    },
    {
      "cell_type": "code",
      "execution_count": null,
      "metadata": {
        "id": "GPd9UASlAnVU"
      },
      "outputs": [],
      "source": [
        "cm1 = confusion_matrix(y_test, y_pred_mnb)"
      ]
    },
    {
      "cell_type": "code",
      "execution_count": null,
      "metadata": {
        "id": "8UPrPQF1AwQj"
      },
      "outputs": [],
      "source": [
        "disp1 = ConfusionMatrixDisplay(confusion_matrix=cm1, display_labels=le.classes_)\n",
        "disp1.plot()\n",
        "plt.show()"
      ]
    },
    {
      "cell_type": "code",
      "execution_count": null,
      "metadata": {
        "id": "ZM39HNvsEYH5"
      },
      "outputs": [],
      "source": [
        "y_pred_lr = lrc.predict(X_test)"
      ]
    },
    {
      "cell_type": "code",
      "execution_count": null,
      "metadata": {
        "id": "8Q_rUhCmEmhN"
      },
      "outputs": [],
      "source": [
        "cm_lr = confusion_matrix(y_test, y_pred_lr)"
      ]
    },
    {
      "cell_type": "code",
      "execution_count": null,
      "metadata": {
        "id": "5C3q9Sw3EyFY"
      },
      "outputs": [],
      "source": [
        "disp2 = ConfusionMatrixDisplay(confusion_matrix=cm_lr, display_labels=le.classes_)\n",
        "disp2.plot()\n",
        "plt.show()"
      ]
    },
    {
      "cell_type": "code",
      "execution_count": null,
      "metadata": {
        "id": "rb43bohiAEIH"
      },
      "outputs": [],
      "source": [
        "import pickle\n",
        "pickle.dump(cv,open('vectorizer3k.pkl','wb'))\n",
        "pickle.dump(xgb,open('xgb3k.pkl','wb'))"
      ]
    },
    {
      "cell_type": "code",
      "execution_count": null,
      "metadata": {
        "id": "D7EP0o_tE9_p"
      },
      "outputs": [],
      "source": [
        "pickle.dump(lrc,open('lrc20test.pkl','wb'))\n",
        "pickle.dump(mnb,open('mnb20test.pkl','wb'))"
      ]
    }
  ],
  "metadata": {
    "accelerator": "TPU",
    "colab": {
      "gpuType": "V28",
      "private_outputs": true,
      "provenance": []
    },
    "kernelspec": {
      "display_name": "myenv",
      "language": "python",
      "name": "python3"
    },
    "language_info": {
      "codemirror_mode": {
        "name": "ipython",
        "version": 3
      },
      "file_extension": ".py",
      "mimetype": "text/x-python",
      "name": "python",
      "nbconvert_exporter": "python",
      "pygments_lexer": "ipython3",
      "version": "3.13.0"
    }
  },
  "nbformat": 4,
  "nbformat_minor": 0
}
